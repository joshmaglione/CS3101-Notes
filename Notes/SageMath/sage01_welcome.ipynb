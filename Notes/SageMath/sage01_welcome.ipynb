{
 "cells": [
  {
   "cell_type": "markdown",
   "metadata": {},
   "source": [
    "# Welcome to SageMath"
   ]
  },
  {
   "cell_type": "markdown",
   "metadata": {},
   "source": [
    "Welcome to SageMath. \n",
    "\n",
    "Because the Jupyter kernel is *not* Python, these notebooks work in fewer places.\n",
    "\n",
    "We need to make sure our kernel (see the top right corner) is set for SageMath."
   ]
  },
  {
   "cell_type": "markdown",
   "metadata": {},
   "source": [
    "Notebooks (`ipynb` files) will be marked for SageMath with a `sage` prefix."
   ]
  },
  {
   "cell_type": "markdown",
   "metadata": {},
   "source": [
    "## What is SageMath?"
   ]
  },
  {
   "cell_type": "markdown",
   "metadata": {},
   "source": [
    "SageMath was created in 2005 on top of Python as a free and open-source alternative to other computer algebra systems at the time.\n",
    "\n",
    "![](../imgs/sagemath.png)"
   ]
  },
  {
   "cell_type": "markdown",
   "metadata": {},
   "source": [
    "Honestly, the closed-source 'competitors' very often perform much better.\n",
    "\n",
    "But SageMath is by no means poor. \n",
    "\n",
    "In fact, there are certain computations one can only do in SageMath."
   ]
  },
  {
   "cell_type": "markdown",
   "metadata": {},
   "source": [
    "SageMath is built on top of Python 3.9.9, so we can take advantage of Python and its modules.\n",
    "\n",
    "- Some modules come pre-installed like\n",
    "  - NumPy\n",
    "  - Matplotlib\n",
    "  - and more"
   ]
  },
  {
   "cell_type": "markdown",
   "metadata": {},
   "source": []
  }
 ],
 "metadata": {
  "language_info": {
   "name": "python"
  }
 },
 "nbformat": 4,
 "nbformat_minor": 2
}
