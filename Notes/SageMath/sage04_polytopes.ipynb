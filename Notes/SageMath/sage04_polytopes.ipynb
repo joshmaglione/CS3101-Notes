{
 "cells": [
  {
   "cell_type": "markdown",
   "id": "992c8c57-2039-431e-a2b8-ec71805d1ba4",
   "metadata": {},
   "source": [
    "# Polytopes"
   ]
  },
  {
   "cell_type": "markdown",
   "id": "6fbeaf96-32c7-4f0c-a964-9067774279fa",
   "metadata": {},
   "source": [
    "This is a demonstration of how we can use computer algebra systems to learn new maths. \n",
    "\n",
    "A (convex) polytope can be defined in at least two equivalent ways."
   ]
  },
  {
   "cell_type": "markdown",
   "id": "8569fa0c-2fc1-4d16-9439-541bce2968bd",
   "metadata": {},
   "source": [
    "## Polytopes as convex hulls"
   ]
  },
  {
   "cell_type": "markdown",
   "id": "3fec2ba4-5fe9-4275-9121-0526208727e8",
   "metadata": {},
   "source": [
    "Suppose $V = \\mathbb{R}^n$ is a vector space. Let $S\\subset V$ be a *finite* set of points.\n",
    "\n",
    "The set $S = \\{x_1, \\dots, x_k\\}$ determines a *polytope* $P$ by taking the *convex hull*:\n",
    "$$\n",
    "    P = \\mathrm{conv}(S) = \\left\\{ \\lambda_1 x_1 + \\cdots + \\lambda_kx_k ~\\middle|~ \\lambda_i\\geqslant 0,\\ \\lambda_1 + \\cdots + \\lambda_k = 1 \\right\\}.\n",
    "$$"
   ]
  },
  {
   "cell_type": "markdown",
   "id": "134ca266-5f11-4c94-b7d8-1213c27a67f4",
   "metadata": {},
   "source": [
    "If $n=2$, we call polytopes *polygons*."
   ]
  },
  {
   "cell_type": "code",
   "execution_count": null,
   "id": "6a2c2aea-3445-4468-93fe-50d6da6fe39b",
   "metadata": {
    "tags": []
   },
   "outputs": [],
   "source": [
    "S = [(0, 0), (1, 0), (0, 1)]\n",
    "P = Polyhedron(S)\n",
    "P"
   ]
  },
  {
   "cell_type": "code",
   "execution_count": null,
   "id": "570b89aa-86b9-4f57-9f1b-62dc2b2ecba5",
   "metadata": {
    "tags": []
   },
   "outputs": [],
   "source": [
    "S = [(-1, 2), (3, 4), (-2, -1), (5, -1)]\n",
    "P = Polyhedron(S)\n",
    "P"
   ]
  },
  {
   "cell_type": "code",
   "execution_count": null,
   "id": "82fda393-b02c-446f-a1d2-cfc2d018ba03",
   "metadata": {
    "tags": []
   },
   "outputs": [],
   "source": [
    "S = [(0, 0, 0), (1, 0, 0), (0, 1, 0), (1, 1, 0), (1/2, 1/2, 1/2)]\n",
    "P = Polyhedron(S)\n",
    "P.plot()"
   ]
  },
  {
   "cell_type": "code",
   "execution_count": null,
   "id": "1b96e8dd-3526-4462-9abf-3e36df57dd82",
   "metadata": {
    "tags": []
   },
   "outputs": [],
   "source": [
    "P.render_wireframe()"
   ]
  },
  {
   "cell_type": "markdown",
   "id": "db52b51c-36ac-4cf2-be49-512284c7fd48",
   "metadata": {},
   "source": [
    "## Polytopes as intersections of half-spaces"
   ]
  },
  {
   "cell_type": "markdown",
   "id": "83fe11fa-88d6-402e-8f98-9e89f3b02cfb",
   "metadata": {},
   "source": [
    "An *affine hyperplane* of $V$ is a translate of a subspace of codimension $1$ (i.e. dimension $n-1$ in $V$).\n",
    "\n",
    "- For $n=1$, a hyperplane is a point.\n",
    "- For $n=2$, a hyperplane is a line.\n",
    "- For $n=3$, a hyperplane is a plane."
   ]
  },
  {
   "cell_type": "markdown",
   "id": "9f95c37b-2ac4-416b-a318-f7bd0a1b4aa1",
   "metadata": {},
   "source": [
    "Every hyperplane splits $V$ into two **closed subsets** using the Euclidean metric. \n",
    "\n",
    "We can think of those spaces as \n",
    "- \"above\" and on the hyperplane,\n",
    "- \"below\" and on the hyperplane.\n",
    "\n",
    "These are called *closed half-spaces*. "
   ]
  },
  {
   "cell_type": "markdown",
   "id": "02e428ac-4c47-4c37-85b3-801beaf95342",
   "metadata": {},
   "source": [
    "A closed half-space can be expressed with an inequality of the form\n",
    "$$\n",
    "    a_1 x_1 + \\cdots + a_n x_n \\geqslant b\n",
    "$$\n",
    "\n",
    "for $a_1,\\dots, a_n,b \\in\\mathbb{R}$."
   ]
  },
  {
   "cell_type": "code",
   "execution_count": null,
   "id": "22150762-9835-4d20-b082-8fcc0701b223",
   "metadata": {
    "tags": []
   },
   "outputs": [],
   "source": [
    "x, y = var('x, y')\n",
    "p1 = region_plot(y>=x-1, (x,0,8), (y,-1,6), alpha=0.5, incol='yellow', bordercol='yellow', title='$y\\\\geq x-1$')\n",
    "p2 = region_plot(y<=4, (x,0,8), (y,-1,6), alpha=0.5, incol='red', bordercol='red', title='$y\\\\leq 4$')\n",
    "p3 = region_plot(x>=2, (x,0,8), (y,-1,6), alpha=0.5, incol='green', bordercol='green', title='$x\\\\geq 2$')\n",
    "p4 = region_plot([y>=x-1, y<=4, x>=2], (x,0,8), (y,-1,6), alpha=0.5, bordercol='blue', title='The Polytope')\n",
    "graphics_array(((p1, p2), (p3, p4)))"
   ]
  },
  {
   "cell_type": "markdown",
   "id": "73291c4e-0027-465f-8864-e10ff6c670c7",
   "metadata": {},
   "source": [
    "A *polytope* $P$ is the **bounded** intersection of a finite set of closed half-spaces."
   ]
  },
  {
   "cell_type": "markdown",
   "id": "c9d751f2-4353-4258-b407-b15562209762",
   "metadata": {},
   "source": [
    "We can represent the above polytope by the three inequalities:\n",
    "$$\n",
    "\\begin{aligned}\n",
    "    1-x_1 + x_2 &\\geqslant 0 \\\\\n",
    "    -2 + x_1 &\\geqslant 0 \\\\\n",
    "    4 - x_2 &\\geqslant 0\n",
    "\\end{aligned}\n",
    "$$"
   ]
  },
  {
   "cell_type": "code",
   "execution_count": null,
   "id": "0d9d7b46-b65f-4235-9484-db85c2bdc644",
   "metadata": {
    "tags": []
   },
   "outputs": [],
   "source": [
    "P = Polyhedron(ieqs=[\n",
    "    (1, -1, 1),\n",
    "    (-2, 1, 0), \n",
    "    (4, 0, -1)\n",
    "])\n",
    "P"
   ]
  },
  {
   "cell_type": "markdown",
   "id": "a83974ae-90a7-4905-8cff-b8e2f2c081c8",
   "metadata": {},
   "source": [
    "## Playing with polytopes"
   ]
  },
  {
   "cell_type": "markdown",
   "id": "ec19b018-e1b9-489a-8c5d-3f63e08b555c",
   "metadata": {},
   "source": [
    "One can construct (and find) well-known polytopes by `polytopes.<name>`."
   ]
  },
  {
   "cell_type": "code",
   "execution_count": null,
   "id": "1bf8060d-4313-4d44-8ccf-7ed5298986b6",
   "metadata": {
    "tags": []
   },
   "outputs": [],
   "source": [
    "P = polytopes.dodecahedron()\n",
    "P.render_wireframe()"
   ]
  },
  {
   "cell_type": "markdown",
   "id": "3c2efadd-3daf-429d-bac0-577fac576692",
   "metadata": {},
   "source": [
    "The *V-representation* of a polytope is the subset of its vertices."
   ]
  },
  {
   "cell_type": "code",
   "execution_count": null,
   "id": "a1983fbd-ebbe-49e4-9a8d-f855eab5fd79",
   "metadata": {
    "tags": []
   },
   "outputs": [],
   "source": [
    "P.Vrepresentation()"
   ]
  },
  {
   "cell_type": "markdown",
   "id": "e0509df5-68ad-4856-99da-c6e1952e6327",
   "metadata": {},
   "source": [
    "The *H-representation* of a polytope is the set of bounding hyperplanes."
   ]
  },
  {
   "cell_type": "code",
   "execution_count": null,
   "id": "f12c15b4-7216-45e2-878b-9202910a0ce9",
   "metadata": {
    "tags": []
   },
   "outputs": [],
   "source": [
    "P.Hrepresentation()"
   ]
  },
  {
   "cell_type": "markdown",
   "id": "f6b34a11-3c3c-48ac-8015-7875056f492a",
   "metadata": {
    "tags": []
   },
   "source": [
    "We can compute the volume of the polytope."
   ]
  },
  {
   "cell_type": "code",
   "execution_count": null,
   "id": "cbd7a0a3-6e32-40ed-b8e2-9acbdfea9e10",
   "metadata": {
    "tags": []
   },
   "outputs": [],
   "source": [
    "P.volume()"
   ]
  },
  {
   "cell_type": "markdown",
   "id": "b60affec-1f29-489d-9985-c32a823435a3",
   "metadata": {},
   "source": [
    "## Faces"
   ]
  },
  {
   "cell_type": "markdown",
   "id": "f2b97c9a-8b14-43ab-8f34-e4615aefc8c5",
   "metadata": {},
   "source": [
    "Suppose $P$ is a polytope with set of bounding hyperplanes $\\mathcal{H}$. \n",
    "\n",
    "A *face* $F$ of $P$ is \n",
    "$$\n",
    "    F = P \\cap H_1 \\cap \\cdots \\cap H_k\n",
    "$$\n",
    "for some $\\{H_1, \\dots, H_k\\} \\subseteq \\mathcal{H}$. \n",
    "\n",
    "Two extreme examples of faces of $P$:\n",
    "- $F = \\varnothing$,\n",
    "- $F = P$.\n",
    "\n",
    "Faces include vertices and edges."
   ]
  },
  {
   "cell_type": "markdown",
   "id": "ce6843c6-6935-4f51-9822-28b8ddb2450d",
   "metadata": {},
   "source": [
    "A face $F$ of $P$ is called a *facet* if $F = P \\cap H$, for some $H\\in \\mathcal{H}$.\n",
    "\n",
    "That is, a facet is a maximal dimensional face which is not equal to $P$."
   ]
  },
  {
   "cell_type": "code",
   "execution_count": null,
   "id": "960d6f8c-acd2-4e59-ac0a-61abb4749a80",
   "metadata": {
    "tags": []
   },
   "outputs": [],
   "source": [
    "P = polytopes.icosahedron()\n",
    "P.render_wireframe()"
   ]
  },
  {
   "cell_type": "markdown",
   "id": "35403c4f-d54e-45c6-9069-271f318b86f1",
   "metadata": {},
   "source": [
    "The function `facets` yields a list of all the facets. \n",
    "\n",
    "Since all facets are triangles, we'll choose the first. "
   ]
  },
  {
   "cell_type": "code",
   "execution_count": null,
   "id": "d56ec334-e1ca-49fb-8f15-f8b2fbef5ed3",
   "metadata": {
    "tags": []
   },
   "outputs": [],
   "source": [
    "F = P.facets()[0]\n",
    "F.dim()"
   ]
  },
  {
   "cell_type": "code",
   "execution_count": null,
   "id": "ef554804-dd1d-4889-b946-40a4af68d712",
   "metadata": {
    "tags": []
   },
   "outputs": [],
   "source": [
    "F.as_polyhedron().plot()"
   ]
  },
  {
   "cell_type": "code",
   "execution_count": null,
   "id": "8017ab15-b9ab-4d96-8f33-fb2209a0f7fa",
   "metadata": {
    "tags": []
   },
   "outputs": [],
   "source": [
    "F.vertices()"
   ]
  },
  {
   "cell_type": "markdown",
   "id": "ff231f19-3386-4c5a-851a-1f585b93e680",
   "metadata": {
    "tags": []
   },
   "source": [
    "We can use `faces` to get different kinds of faces."
   ]
  },
  {
   "cell_type": "code",
   "execution_count": null,
   "id": "9920226d-c635-4335-a954-92ffd70fc385",
   "metadata": {
    "tags": []
   },
   "outputs": [],
   "source": [
    "E = P.faces(1)[3]\n",
    "E"
   ]
  },
  {
   "cell_type": "code",
   "execution_count": null,
   "id": "5a7e0c12-8694-4f53-ae80-755940266ec7",
   "metadata": {
    "tags": []
   },
   "outputs": [],
   "source": [
    "E.dim()"
   ]
  },
  {
   "cell_type": "code",
   "execution_count": null,
   "id": "7595d77d-dcbd-4cf3-a325-fbf59aff8b66",
   "metadata": {
    "tags": []
   },
   "outputs": [],
   "source": [
    "E.as_polyhedron().show()"
   ]
  },
  {
   "cell_type": "markdown",
   "id": "c908976e-f274-4e8b-822f-991815088c2b",
   "metadata": {},
   "source": [
    "We can even do polytopes in higher dimension."
   ]
  },
  {
   "cell_type": "code",
   "execution_count": null,
   "id": "6aebb750-739a-4e2e-85bc-1543d7575206",
   "metadata": {
    "tags": []
   },
   "outputs": [],
   "source": [
    "P = polytopes.hypercube(4)\n",
    "P.plot()                    # A projection into RR^3"
   ]
  },
  {
   "cell_type": "code",
   "execution_count": null,
   "id": "6e50b9ba-cd92-4a61-bdc5-19449bd7c365",
   "metadata": {
    "tags": []
   },
   "outputs": [],
   "source": [
    "F = P.facets()[0]\n",
    "F.as_polyhedron().show()"
   ]
  },
  {
   "cell_type": "markdown",
   "id": "c926c481-0f68-4c7f-98e2-2234b8947452",
   "metadata": {},
   "source": [
    "## Exercises"
   ]
  },
  {
   "cell_type": "markdown",
   "id": "a29ddf68-cf46-4624-ad7b-c3ed51bfbf06",
   "metadata": {},
   "source": [
    "1. Construct a polytope $P$ that is the convex hull of 6 points but $P$ has only 5 vertices.\n",
    "2. Construct a polytope $P$ that is bounded by 6 hyperplanes but $P$ has only $5$ facets.\n",
    "3. Find a few named polytopes (i.e. from `polytopes.<name>`) and plot them."
   ]
  }
 ],
 "metadata": {
  "kernelspec": {
   "display_name": "SageMath 9.5",
   "language": "sage",
   "name": "sagemath"
  },
  "language_info": {
   "codemirror_mode": {
    "name": "ipython",
    "version": 3
   },
   "file_extension": ".py",
   "mimetype": "text/x-python",
   "name": "python",
   "nbconvert_exporter": "python",
   "pygments_lexer": "ipython3",
   "version": "3.11.2"
  }
 },
 "nbformat": 4,
 "nbformat_minor": 5
}
