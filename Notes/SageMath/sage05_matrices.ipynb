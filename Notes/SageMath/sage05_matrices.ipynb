{
 "cells": [
  {
   "cell_type": "markdown",
   "id": "ad67ad00-9322-47c4-8b73-958693699a4c",
   "metadata": {
    "tags": []
   },
   "source": [
    "# Matrices"
   ]
  },
  {
   "cell_type": "markdown",
   "id": "6f933e28-334a-412e-aa99-24962dc3bc1c",
   "metadata": {},
   "source": [
    "Computer algebra systems can all deal with matrices and Sage is no exception."
   ]
  },
  {
   "cell_type": "markdown",
   "id": "00cfd8ac-64e7-4229-8afe-2921832723be",
   "metadata": {},
   "source": [
    "Building matrices is very simple."
   ]
  },
  {
   "cell_type": "code",
   "execution_count": null,
   "id": "88794844-0781-4e93-8725-f19cd5aaea99",
   "metadata": {
    "tags": []
   },
   "outputs": [],
   "source": [
    "pretty_print_default(True)"
   ]
  },
  {
   "cell_type": "code",
   "execution_count": null,
   "id": "8638e40e-da81-4a49-81f9-9cb4de3bbc95",
   "metadata": {
    "tags": []
   },
   "outputs": [],
   "source": [
    "A = Matrix([[1, 2, 3], [4, 5, 6], [7, 8, 9]])\n",
    "A"
   ]
  },
  {
   "cell_type": "markdown",
   "id": "271f5fe4-af9c-40cc-8586-1ab1c6ac459d",
   "metadata": {},
   "source": [
    "One can also declare the coefficients. Some examples:\n",
    "- `ZZ` : integers\n",
    "- `QQ` : rationals\n",
    "- `RR` : reals (floats)\n",
    "- `CC` : complex (as floats) "
   ]
  },
  {
   "cell_type": "code",
   "execution_count": null,
   "id": "787db03a-b2fa-4064-9b0e-4ae05a69cbc0",
   "metadata": {
    "tags": []
   },
   "outputs": [],
   "source": [
    "A = Matrix(RR, [[1, 2, 3], [4, 5, 6], [7, 8, 9]])\n",
    "A"
   ]
  },
  {
   "cell_type": "markdown",
   "id": "f317f10a-97d2-41f5-a1bb-e8f54314a567",
   "metadata": {},
   "source": [
    "There are a number of ways to construct common matrices.\n",
    "\n",
    "For all of these, you can declare the coefficients.\n",
    "\n",
    "- I'm just going to use the default and not worry about this."
   ]
  },
  {
   "cell_type": "code",
   "execution_count": null,
   "id": "f4850a50-66fc-456c-9d35-0d2c988a004b",
   "metadata": {
    "tags": []
   },
   "outputs": [],
   "source": [
    "zero_matrix(4, 3)"
   ]
  },
  {
   "cell_type": "code",
   "execution_count": null,
   "id": "a5cbd6f1-b869-461c-a908-b0d9b75ab369",
   "metadata": {
    "tags": []
   },
   "outputs": [],
   "source": [
    "identity_matrix(5)"
   ]
  },
  {
   "cell_type": "code",
   "execution_count": null,
   "id": "a8dbc196-e5f9-4722-a575-8b9ce3d806bf",
   "metadata": {
    "tags": []
   },
   "outputs": [],
   "source": [
    "random_matrix(ZZ, 2, 2)     # Need to declare coefficients for this"
   ]
  },
  {
   "cell_type": "markdown",
   "id": "5d77a72b-2a1d-48b3-8fb8-dd1499586a97",
   "metadata": {},
   "source": [
    "## Operations with matrices"
   ]
  },
  {
   "cell_type": "markdown",
   "id": "c3fe44eb-3231-4fa6-840e-105063bcba23",
   "metadata": {},
   "source": [
    "Standard operations like $+$, $-$, $*$, $^{-1}$, and $^{t}$ exist"
   ]
  },
  {
   "cell_type": "code",
   "execution_count": null,
   "id": "862fa2c2-c5e6-4384-96ed-2a1c2a8c1176",
   "metadata": {
    "tags": []
   },
   "outputs": [],
   "source": [
    "A = random_matrix(ZZ, 2, 2)\n",
    "B = random_matrix(ZZ, 2, 2)\n",
    "C = random_matrix(ZZ, 2, 3)\n",
    "pretty_print(\"A =\", A)\n",
    "pretty_print(\"B =\", B)\n",
    "pretty_print(\"C =\", C)"
   ]
  },
  {
   "cell_type": "code",
   "execution_count": null,
   "id": "751b160f-03cd-4aa8-a09d-9d3b10ab9f13",
   "metadata": {
    "tags": []
   },
   "outputs": [],
   "source": [
    "A + B"
   ]
  },
  {
   "cell_type": "code",
   "execution_count": null,
   "id": "3d81e2ad-04c7-48fe-9290-54caf83c01b2",
   "metadata": {
    "tags": []
   },
   "outputs": [],
   "source": [
    "A * C"
   ]
  },
  {
   "cell_type": "code",
   "execution_count": null,
   "id": "7a2efc0d-8e8a-4ad9-af86-765865c724ec",
   "metadata": {
    "tags": []
   },
   "outputs": [],
   "source": [
    "A^-1"
   ]
  },
  {
   "cell_type": "code",
   "execution_count": null,
   "id": "eb6758a5-3564-44bd-9b1e-5494c8a31ce6",
   "metadata": {
    "tags": []
   },
   "outputs": [],
   "source": [
    "C.transpose() * B"
   ]
  },
  {
   "cell_type": "markdown",
   "id": "2eba795c-5b12-47df-ac64-4437c0622c30",
   "metadata": {},
   "source": [
    "## Solving linear systems"
   ]
  },
  {
   "cell_type": "markdown",
   "id": "3ba64d32-ff3f-4b03-88c3-addba10fe2dc",
   "metadata": {},
   "source": [
    "Suppose we have the following system of equations:\n",
    "$$\n",
    "\\begin{aligned} \n",
    "    x_1 - 2x_2 + 4x_3 - 8x_4 &= 0 \\\\\n",
    "    -x_1 + x_2 + x_3 - 2x_4 &= 1 \\\\\n",
    "    \\qquad + x_2 \\qquad - x_4 &= -1 \\\\ \n",
    "    3x_1 \\qquad + x_3 \\qquad &= 2 \n",
    "\\end{aligned}\n",
    "$$"
   ]
  },
  {
   "cell_type": "markdown",
   "id": "38ad0e5a-85e9-4b48-a81b-f86d4ff9fc8b",
   "metadata": {},
   "source": [
    "As we learn in Linear Algebra, we can convert this to the following matrix equation:\n",
    "$$\n",
    "\\begin{pmatrix}\n",
    "    1 & -2 & 4 & -8 \\\\\n",
    "    -1 & 1 & 1 & -2 \\\\\n",
    "    0 & 1 & 0 & -1 \\\\\n",
    "    3 & 0 & 1 & 0 \n",
    "\\end{pmatrix}\n",
    "\\begin{pmatrix}\n",
    "    x_1 \\\\ x_2 \\\\ x_3 \\\\ x_4\n",
    "\\end{pmatrix} \n",
    "=\n",
    "\\begin{pmatrix}\n",
    "    0 \\\\ 1 \\\\ -1 \\\\ 2\n",
    "\\end{pmatrix} .\n",
    "$$"
   ]
  },
  {
   "cell_type": "code",
   "execution_count": null,
   "id": "c119eea6-bef6-45bf-9f83-be6131db66a5",
   "metadata": {
    "tags": []
   },
   "outputs": [],
   "source": [
    "A = Matrix([\n",
    "    [1, -2, 4, -8],\n",
    "    [-1, 1, 1, -2], \n",
    "    [0, 1, 0, -1],\n",
    "    [3, 0, 1, 0]\n",
    "])\n",
    "b = vector([0, 1, -1, 2])"
   ]
  },
  {
   "cell_type": "code",
   "execution_count": null,
   "id": "e9fdae11-4148-41c8-8c9d-d422b4d3e18b",
   "metadata": {
    "tags": []
   },
   "outputs": [],
   "source": [
    "A"
   ]
  },
  {
   "cell_type": "code",
   "execution_count": null,
   "id": "d7c22d7d-df6e-46ef-a2a8-d2f32cc86edc",
   "metadata": {
    "tags": []
   },
   "outputs": [],
   "source": [
    "b"
   ]
  },
  {
   "cell_type": "markdown",
   "id": "99980c30-77ef-4098-b4ca-68fb78b32830",
   "metadata": {},
   "source": [
    "It is OK that $b$ is not a column vector. Sage knows what to do with it."
   ]
  },
  {
   "cell_type": "markdown",
   "id": "e81ec5e0-4b0e-4950-ab0e-9774f1fe0bbc",
   "metadata": {},
   "source": [
    "To find the answer(s) to the column vector of $x_i$, we use `solve_right` since the vector we're solving for is on the right."
   ]
  },
  {
   "cell_type": "code",
   "execution_count": null,
   "id": "1f3c1558-1c88-4cc0-b65e-0de626d62827",
   "metadata": {
    "tags": []
   },
   "outputs": [],
   "source": [
    "A.solve_right(b)"
   ]
  },
  {
   "cell_type": "markdown",
   "id": "155c8fa0-4524-4f30-879f-687036782e58",
   "metadata": {},
   "source": [
    "This is a particularly nice example, and we might remember how to solve this from linear algebra."
   ]
  },
  {
   "cell_type": "markdown",
   "id": "4113622b-7cd4-4bbb-9566-7414a680bfe9",
   "metadata": {},
   "source": [
    "The matrix $A$ is invertible."
   ]
  },
  {
   "cell_type": "code",
   "execution_count": null,
   "id": "0023bae4-cec0-4cab-a723-eb53ac50d533",
   "metadata": {
    "tags": []
   },
   "outputs": [],
   "source": [
    "A^-1 * b"
   ]
  },
  {
   "cell_type": "markdown",
   "id": "89ce4551-cafa-4c1e-a176-cadd1d45aa76",
   "metadata": {},
   "source": [
    "## Nullspace, rank, and Gaussian elimination"
   ]
  },
  {
   "cell_type": "markdown",
   "id": "cff80d5b-8a8c-4348-9d5e-9d9fda7bd468",
   "metadata": {},
   "source": [
    "There are commands for each of these in Sage.\n",
    "\n",
    "And there is a way to perform Gaussian elimination step-by-step as well. "
   ]
  },
  {
   "cell_type": "code",
   "execution_count": null,
   "id": "06454754-f232-401d-b834-d6a741b9ab6a",
   "metadata": {},
   "outputs": [],
   "source": [
    "A = Matrix(QQ, [\n",
    "    [1, 2, 3], \n",
    "    [4, 5, 6], \n",
    "    [7, 8, 9]\n",
    "]) \n",
    "A"
   ]
  },
  {
   "cell_type": "markdown",
   "id": "1467cd42-2bbf-4303-94da-6624912e69c6",
   "metadata": {},
   "source": [
    "We can get $A$ into reduced row echelon form (rref) by the `rref` function."
   ]
  },
  {
   "cell_type": "code",
   "execution_count": null,
   "id": "c71e1bd9-aa35-4db7-8941-168b739beadd",
   "metadata": {
    "tags": []
   },
   "outputs": [],
   "source": [
    "A.rref()"
   ]
  },
  {
   "cell_type": "markdown",
   "id": "b2769af5-bc1b-43a8-b064-9063be291614",
   "metadata": {},
   "source": [
    "Note that this produces a new matrix. It does not change $A$."
   ]
  },
  {
   "cell_type": "code",
   "execution_count": null,
   "id": "e6f6acfb-6fca-469c-9b80-a7645d8c2c2d",
   "metadata": {
    "tags": []
   },
   "outputs": [],
   "source": [
    "A"
   ]
  },
  {
   "cell_type": "markdown",
   "id": "2b46ac98-0a7d-4e33-874c-c3cc94030693",
   "metadata": {},
   "source": [
    "We can see from the rref, that the rank of $A$ is $2$, so it has a nontrivial nullspace."
   ]
  },
  {
   "cell_type": "code",
   "execution_count": null,
   "id": "b30fc3c0-761e-4520-9aa5-0c1c50eb2ccb",
   "metadata": {
    "tags": []
   },
   "outputs": [],
   "source": [
    "A.rank()"
   ]
  },
  {
   "cell_type": "markdown",
   "id": "5332d5da-7715-4e82-b6be-63976f129438",
   "metadata": {},
   "source": [
    "Remember that nullspace and kernel are the same object. The kernel of $A$ comprises all vectors $v$ such that \n",
    "$$\n",
    "    Av = 0.\n",
    "$$"
   ]
  },
  {
   "cell_type": "code",
   "execution_count": null,
   "id": "0fb98fd6-837b-4c67-ad2c-3a9ebb5cd1dd",
   "metadata": {
    "tags": []
   },
   "outputs": [],
   "source": [
    "A.kernel()"
   ]
  },
  {
   "cell_type": "markdown",
   "id": "bfab1ad4-1a50-411b-80f0-93b47ea116d7",
   "metadata": {},
   "source": [
    "Thus, the kernel of our matrix $A$ is \n",
    "$$\n",
    "    \\mathrm{ker}(A) = \\left\\{ \\begin{pmatrix} a\\\\ -2a \\\\ a \\end{pmatrix} : a\\in \\mathbb{Q} \\right\\}. \n",
    "$$\n",
    "\n",
    "We can also test this using variables."
   ]
  },
  {
   "cell_type": "code",
   "execution_count": null,
   "id": "486fd8f5-fc8c-49ee-a1f7-db39cba955ce",
   "metadata": {
    "tags": []
   },
   "outputs": [],
   "source": [
    "x = var('x')\n",
    "v = column_matrix([x, -2*x, x])\n",
    "v"
   ]
  },
  {
   "cell_type": "code",
   "execution_count": null,
   "id": "2dd0f39b-5e86-4adf-b4c3-4b1f1fcc0dc7",
   "metadata": {
    "tags": []
   },
   "outputs": [],
   "source": [
    "A*v"
   ]
  },
  {
   "cell_type": "markdown",
   "id": "30762406-3a98-4b90-bcba-d004b47c7074",
   "metadata": {
    "tags": []
   },
   "source": [
    "You can, for whatever reason, do Gaussian elinimation step-by-step using:\n",
    "- `add_multiple_of_row`\n",
    "- `swap_rows`\n",
    "- `rescale_row`"
   ]
  },
  {
   "cell_type": "code",
   "execution_count": null,
   "id": "cc6099bd-9504-4de1-8103-d04f3d367ded",
   "metadata": {
    "tags": []
   },
   "outputs": [],
   "source": [
    "A = Matrix(QQ, [\n",
    "    [1, 2, 3], \n",
    "    [4, 5, 6], \n",
    "    [7, 8, 9]\n",
    "]) \n",
    "A"
   ]
  },
  {
   "cell_type": "code",
   "execution_count": null,
   "id": "96d0cc2e-b6a0-4ab0-8c65-4de86629945d",
   "metadata": {
    "tags": []
   },
   "outputs": [],
   "source": [
    "A.add_multiple_of_row(1, 0, -4)      # Changes A! Does *not* produce copy.\n",
    "A"
   ]
  },
  {
   "cell_type": "code",
   "execution_count": null,
   "id": "07909df4-4df4-46be-b68d-030364e63252",
   "metadata": {
    "tags": []
   },
   "outputs": [],
   "source": [
    "A.add_multiple_of_row(2, 0, -7)\n",
    "A"
   ]
  },
  {
   "cell_type": "code",
   "execution_count": null,
   "id": "730786fc-a6b0-4389-b089-c4cd27abf94a",
   "metadata": {
    "tags": []
   },
   "outputs": [],
   "source": [
    "A.rescale_row(2, -1/6)\n",
    "A"
   ]
  },
  {
   "cell_type": "code",
   "execution_count": null,
   "id": "ea7a4f3c-f5a4-4315-b80f-8b2e8761ee90",
   "metadata": {
    "tags": []
   },
   "outputs": [],
   "source": [
    "A.swap_rows(1, 2)\n",
    "A"
   ]
  },
  {
   "cell_type": "code",
   "execution_count": null,
   "id": "1d3bfc6a-84a6-46bd-92cb-ae487e14b2f7",
   "metadata": {
    "tags": []
   },
   "outputs": [],
   "source": [
    "A.add_multiple_of_row(0, 1, -2)\n",
    "A.add_multiple_of_row(2, 1, 3)\n",
    "A"
   ]
  },
  {
   "cell_type": "markdown",
   "id": "5d1cca45-91c0-4a53-94f1-24afa80e8e58",
   "metadata": {},
   "source": [
    "## Exponentials"
   ]
  },
  {
   "cell_type": "markdown",
   "id": "ccb43355-098f-4a94-8f10-8f3f3572b3dd",
   "metadata": {},
   "source": [
    "Suppose we have the following function depending on time $t$:\n",
    "$$\n",
    "    x(t) = \\begin{pmatrix}\n",
    "        x_0(t) \\\\ x_1(t) \n",
    "    \\end{pmatrix}\n",
    "$$\n",
    "We want to solve the following ordinary differential equation \n",
    "$$\n",
    "    x'(t) = \\begin{pmatrix}\n",
    "        -1 & 1 \\\\ 0 & -1 \n",
    "    \\end{pmatrix} x(t)\n",
    "$$\n",
    "such that $x(1) = (6, 5)^{t}$."
   ]
  },
  {
   "cell_type": "markdown",
   "id": "991954dd-0da0-4e4f-a726-a9c800bf4d25",
   "metadata": {},
   "source": [
    "It's OK if you have not seen how to solve these. \n",
    "\n",
    "These kinds of problems come up a lot: \n",
    "- they are easy to solve\n",
    "- and give qualitative data for more complicated systems.\n",
    "\n",
    "The theory says the unique solution is\n",
    "$$\n",
    "    e^{A(t - 1)}\\begin{pmatrix}\n",
    "        6 \\\\ 5\n",
    "    \\end{pmatrix}\n",
    "$$\n",
    "\n",
    "where\n",
    "$$\n",
    "    e^{A(t-1)} = I_2 + \\dfrac{A(t-1)}{1!} + \\dfrac{A^2(t-1)^2}{2!} + \\dfrac{A^3(t-1)^3}{3!} + \\cdots \n",
    "$$\n",
    "and\n",
    "$$\n",
    "    A = \\begin{pmatrix}\n",
    "        -1 & 1 \\\\ 0 & -1\n",
    "    \\end{pmatrix} .\n",
    "$$"
   ]
  },
  {
   "cell_type": "code",
   "execution_count": null,
   "id": "a653ad34-1e04-4d9c-ab25-3146b2fb7fb6",
   "metadata": {
    "tags": []
   },
   "outputs": [],
   "source": [
    "A = Matrix(2, 2, [-1, 1, 0, -1])\n",
    "A"
   ]
  },
  {
   "cell_type": "code",
   "execution_count": null,
   "id": "0de7057d-7a3d-487a-899d-d43b02526e4c",
   "metadata": {
    "tags": []
   },
   "outputs": [],
   "source": [
    "t = var('t')\n",
    "B = A*(t - 1)\n",
    "B"
   ]
  },
  {
   "cell_type": "markdown",
   "id": "8fa3d8c7-33a3-48ed-b6d9-d9eb4917e8a1",
   "metadata": {},
   "source": [
    "You can see the infinite series above really is infinite!"
   ]
  },
  {
   "cell_type": "code",
   "execution_count": null,
   "id": "283e4ac9-d380-4da9-9d42-2dab2899de07",
   "metadata": {
    "tags": []
   },
   "outputs": [],
   "source": [
    "B^10/factorial(10)"
   ]
  },
  {
   "cell_type": "markdown",
   "id": "3d4c6674-2251-4ecb-8229-fbbe943dcdd6",
   "metadata": {},
   "source": [
    "Yet we can still get the exponential by symbolic methods."
   ]
  },
  {
   "cell_type": "code",
   "execution_count": null,
   "id": "9d12e28d-d106-43f5-9449-3e5012ec0197",
   "metadata": {
    "tags": []
   },
   "outputs": [],
   "source": [
    "B.exp()"
   ]
  },
  {
   "cell_type": "code",
   "execution_count": null,
   "id": "a6b1552c-483f-46f3-b1c1-ca2a12e9ca03",
   "metadata": {
    "tags": []
   },
   "outputs": [],
   "source": [
    "S = (B.exp() * column_matrix([6, 5])).factor()\n",
    "S"
   ]
  },
  {
   "cell_type": "markdown",
   "id": "a476a2c5-6884-4522-9661-3a537d290676",
   "metadata": {},
   "source": [
    "We can see the two solutions are\n",
    "$$\n",
    "\\begin{aligned}\n",
    "    x_1(t) &= \\frac{1}{5}\\left(e^{5t - 5} + 14\\right) \\\\\n",
    "    x_2(t) &= \\frac{1}{5}\\left(2e^{5t - 5} - 7\\right)\n",
    "\\end{aligned}\n",
    "$$"
   ]
  },
  {
   "cell_type": "code",
   "execution_count": null,
   "id": "cac02f29-cc1f-485d-8d41-e4ab35afc73d",
   "metadata": {
    "tags": []
   },
   "outputs": [],
   "source": [
    "F = (S[0, 0], S[1, 0])\n",
    "parametric_plot(F, (t, 0, 20), aspect_ratio='automatic', figsize=6)"
   ]
  },
  {
   "cell_type": "markdown",
   "id": "a3c6f5f7-da90-4563-85fc-a9a0cd4c1058",
   "metadata": {},
   "source": [
    "## Exercises"
   ]
  },
  {
   "cell_type": "markdown",
   "id": "97494d5d-0c1d-49e6-9026-f38a9ef65ee5",
   "metadata": {},
   "source": [
    "1. Create a $3\\times 4$ rational matrix $A$, compute $B = AA^t$, and compute $B^{42}$.\n",
    "1. Solve the following linear system:\n",
    "$$\n",
    "\\begin{aligned}\n",
    "    2x + 3y - z &= 7 \\\\\n",
    "    3x - 2y + 2z &= 1 \\\\\n",
    "    x + 2y - 3z &= 3 \\\\\n",
    "    4x - y + 2z &= 8 \\\\\n",
    "    x - 2y + 2z &= 4 \\\\\n",
    "\\end{aligned}\n",
    "$$\n",
    "1. Use the above recipe to solve the following linear ordinary differential equations:\n",
    "$$\n",
    "    x'(t) = \\begin{pmatrix}\n",
    "        -1 & -2 \\\\\n",
    "        2 & -1\n",
    "    \\end{pmatrix} x(t),\n",
    "$$\n",
    "such that $x(0) = (2, 1)^t$. What does a parametric plot look like?"
   ]
  }
 ],
 "metadata": {
  "kernelspec": {
   "display_name": "SageMath 9.5",
   "language": "sage",
   "name": "sagemath"
  },
  "language_info": {
   "codemirror_mode": {
    "name": "ipython",
    "version": 3
   },
   "file_extension": ".py",
   "mimetype": "text/x-python",
   "name": "python",
   "nbconvert_exporter": "python",
   "pygments_lexer": "ipython3",
   "version": "3.11.2"
  }
 },
 "nbformat": 4,
 "nbformat_minor": 5
}
