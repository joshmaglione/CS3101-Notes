{
 "cells": [
  {
   "cell_type": "markdown",
   "id": "254c3156-47f6-4a4f-a116-88e39f8894cc",
   "metadata": {},
   "source": [
    "# Calculus"
   ]
  },
  {
   "cell_type": "markdown",
   "id": "cdca31e9-488b-457f-91a1-a5a55683f811",
   "metadata": {},
   "source": [
    "In `sage02_polynomials` we saw that we could build polynomials from symbolic expressions.\n",
    "\n",
    "That is, we used `x = var('x')`."
   ]
  },
  {
   "cell_type": "markdown",
   "id": "e2c7e423-8543-4c8c-8195-dff5c1f09493",
   "metadata": {},
   "source": [
    "We can build more general symbolic expressions this way."
   ]
  },
  {
   "cell_type": "code",
   "execution_count": null,
   "id": "c38ef05f-8a19-4a6c-b910-36d97f7f2e75",
   "metadata": {
    "tags": []
   },
   "outputs": [],
   "source": [
    "pretty_print_default(True)"
   ]
  },
  {
   "cell_type": "markdown",
   "id": "9cd72d96-2265-477c-aefe-3efd795f6210",
   "metadata": {},
   "source": [
    "We'll define two variables `x` and `y` but work with only one for now."
   ]
  },
  {
   "cell_type": "code",
   "execution_count": null,
   "id": "0fe176cb-bad8-43a0-8714-73c967556cb0",
   "metadata": {
    "tags": []
   },
   "outputs": [],
   "source": [
    "x, y = var('x,y')\n",
    "f = x + e^(x^2-1) + sin(x - pi/4)\n",
    "f"
   ]
  },
  {
   "cell_type": "markdown",
   "id": "8d7f077e-62a5-4566-a70f-acfa63be057c",
   "metadata": {},
   "source": [
    "As we saw in the introduction, we can differentiate and integrate."
   ]
  },
  {
   "cell_type": "code",
   "execution_count": null,
   "id": "bc7a8620-a08a-4fed-8a6b-62e84d82ac9c",
   "metadata": {
    "tags": []
   },
   "outputs": [],
   "source": [
    "f.derivative()"
   ]
  },
  {
   "cell_type": "markdown",
   "id": "5f2e1179-fd3d-4ccd-9e40-38b94c814036",
   "metadata": {},
   "source": [
    "We can plot in the usual way."
   ]
  },
  {
   "cell_type": "code",
   "execution_count": null,
   "id": "e50cb571-f277-4fa4-8d0d-e300aa8114de",
   "metadata": {
    "tags": []
   },
   "outputs": [],
   "source": [
    "f.plot(-2, 2)"
   ]
  },
  {
   "cell_type": "markdown",
   "id": "c4df5ce7-f256-4df9-9931-8ee688dea593",
   "metadata": {
    "tags": []
   },
   "source": [
    "We can find roots with `find_root`. \n",
    "\n",
    "Sometimes we can take advantage of `f.roots()`, but for complicated functions, this won't work."
   ]
  },
  {
   "cell_type": "code",
   "execution_count": null,
   "id": "98a0b226-a87a-41a5-ac5d-6305e2a88005",
   "metadata": {
    "tags": []
   },
   "outputs": [],
   "source": [
    "# f.roots()                # Won't work"
   ]
  },
  {
   "cell_type": "markdown",
   "id": "733b9140-74a5-41aa-bf83-72f37967d0a7",
   "metadata": {
    "tags": []
   },
   "source": [
    "From the graph, we see there is a root in the interval: \n",
    "- $(-1.5, -1.0)$\n",
    "- $(0.0, 0.5)$."
   ]
  },
  {
   "cell_type": "code",
   "execution_count": null,
   "id": "d90aab24-9a23-46f6-9ded-34c9de7003dd",
   "metadata": {
    "tags": []
   },
   "outputs": [],
   "source": [
    "print(f\"We have two roots at approximately:\\n\\t{find_root(f, -1.5, -1)}\\n\\t{find_root(f, 0, 0.5)}\")"
   ]
  },
  {
   "cell_type": "markdown",
   "id": "209d4908-b8b0-4a88-bc6d-aa0d74ee9863",
   "metadata": {},
   "source": [
    "Sanity check! "
   ]
  },
  {
   "cell_type": "code",
   "execution_count": null,
   "id": "115ce444-644c-404f-b8a2-ea61dd8f26c0",
   "metadata": {
    "tags": []
   },
   "outputs": [],
   "source": [
    "z = find_root(f, 0, 0.5)\n",
    "f(x=z)"
   ]
  },
  {
   "cell_type": "code",
   "execution_count": null,
   "id": "74ab4014-abfe-4d32-b756-cbb92593100b",
   "metadata": {
    "tags": []
   },
   "outputs": [],
   "source": [
    "float(f(x=z))"
   ]
  },
  {
   "cell_type": "markdown",
   "id": "8a795512-f976-4c87-bb0e-3cf9136270e0",
   "metadata": {},
   "source": [
    "## Univariate integration"
   ]
  },
  {
   "cell_type": "markdown",
   "id": "dc47e7d1-ae6b-4680-97ad-7f8562577379",
   "metadata": {
    "tags": []
   },
   "source": [
    "We can integrate, both compute the antiderivative and integrate over an interval."
   ]
  },
  {
   "cell_type": "code",
   "execution_count": null,
   "id": "d990f519-d064-4c8b-b8e6-b3c5b3496771",
   "metadata": {
    "tags": []
   },
   "outputs": [],
   "source": [
    "f.integral(x)"
   ]
  },
  {
   "cell_type": "markdown",
   "id": "6c9e6884-d5b7-4788-88c7-34c2b52e3ed8",
   "metadata": {},
   "source": [
    "Notice the function $e^{x^2-1}$ produces a strange looking function in the integral.\n",
    "\n",
    "We'll come back to this soon."
   ]
  },
  {
   "cell_type": "markdown",
   "id": "f7562c57-6dd0-46d4-8914-e60c36560b63",
   "metadata": {
    "tags": []
   },
   "source": [
    "We can numerically integrate over an interval. \n",
    "\n",
    "Since our function `f` is defined everywhere, let's pick the interval $(0.5,1)$."
   ]
  },
  {
   "cell_type": "code",
   "execution_count": null,
   "id": "5e8f1e87-1c2b-4bd5-b9d0-b3b0beb719e4",
   "metadata": {
    "tags": []
   },
   "outputs": [],
   "source": [
    "f.integrate(x, 0.5, 1)"
   ]
  },
  {
   "cell_type": "markdown",
   "id": "5c06fa8c-7205-4207-a30d-403fa2f52d5e",
   "metadata": {},
   "source": [
    "😕"
   ]
  },
  {
   "cell_type": "code",
   "execution_count": null,
   "id": "8fe97d4c-1efc-40c8-810a-e1ee578f46c6",
   "metadata": {
    "tags": []
   },
   "outputs": [],
   "source": [
    "float(f.integrate(x, 0.5, 1))"
   ]
  },
  {
   "cell_type": "markdown",
   "id": "c8032555-4e0b-4d37-b822-c83fa51ba36f",
   "metadata": {
    "tags": []
   },
   "source": [
    "😌"
   ]
  },
  {
   "cell_type": "markdown",
   "id": "35c4b780-5648-4131-b2ac-0d13d80b5b66",
   "metadata": {
    "tags": []
   },
   "source": [
    "The way I would integrate the function $e^{x^2-1}$ is to write it as its Taylor series. Namely,\n",
    "$$\n",
    "    e^{x^2-1} = \\frac{1}{e}\\sum_{k=0}^{\\infty} \\dfrac{x^{2k}}{k!}.\n",
    "$$\n",
    "\n",
    "Thus, an antiderivative of $e^{x^2-1}$ is \n",
    "$$\n",
    "    \\frac{1}{e}\\sum_{k=0}^{\\infty} \\dfrac{x^{2k+1}}{k! (2k+1)}\n",
    "$$\n",
    "\n",
    "which isn't a simple function of the form $e^{g(x)}$.\n",
    "\n",
    "Let's plug this directly into SageMath."
   ]
  },
  {
   "cell_type": "code",
   "execution_count": null,
   "id": "28c6f350-9fc5-4887-a4a5-58fa34ba26d0",
   "metadata": {
    "tags": []
   },
   "outputs": [],
   "source": [
    "k = var('k')\n",
    "sum(x^(2*k+1)/(factorial(k)*(2*k+1)), k, 0, Infinity)"
   ]
  },
  {
   "cell_type": "markdown",
   "id": "02bc8584-c809-49d9-a148-21615bea2abe",
   "metadata": {},
   "source": [
    "Thus, the mysterious function we got when computing an antiderivative is really just another way of writing the integral of the Taylor series."
   ]
  },
  {
   "cell_type": "markdown",
   "id": "b96ba317-fcec-4490-90ef-a6907d5855c5",
   "metadata": {},
   "source": [
    "## Series"
   ]
  },
  {
   "cell_type": "markdown",
   "id": "1b03d565-3d2f-4fac-8167-f5a81945d064",
   "metadata": {},
   "source": [
    "We can compute Taylor series approximations.\n",
    "\n",
    "Here is the constant term of our function `f` from above.\n",
    "\n",
    "That is, it is the Taylor expansion about $x=0$ and it is the constant term of the power series."
   ]
  },
  {
   "cell_type": "code",
   "execution_count": null,
   "id": "4658fe9a-4359-4392-865c-4f2aa559a4f6",
   "metadata": {
    "tags": []
   },
   "outputs": [],
   "source": [
    "f.taylor(x, 0, 0)"
   ]
  },
  {
   "cell_type": "markdown",
   "id": "31762831-ec84-4569-ac0d-b83a1f1343fd",
   "metadata": {
    "tags": []
   },
   "source": [
    "We can plot a few Taylor approximations of our function `f`.\n",
    "\n",
    "We can plot multiple curves by plot a list of curves."
   ]
  },
  {
   "cell_type": "code",
   "execution_count": null,
   "id": "0772b560-e3ce-4ee0-a9eb-90c7bf7ea217",
   "metadata": {
    "tags": []
   },
   "outputs": [],
   "source": [
    "N = 4\n",
    "curves = [f] + [f.taylor(x, 0, k) for k in range(N)]\n",
    "labels = ['f'] + [f'{k}-taylor' for k in range(N)]\n",
    "\n",
    "plot(curves, xmin=-3, xmax=3, legend_label=labels, ymin=-5, ymax=20)"
   ]
  },
  {
   "cell_type": "markdown",
   "id": "d6755c49-ffba-4234-9fa3-87958a01becf",
   "metadata": {},
   "source": [
    "We can also compute value of series.\n",
    "\n",
    "A long time ago, Euler showed that \n",
    "$$\n",
    "    \\sum_{k=1}^\\infty \\dfrac{1}{k^2} = \\dfrac{\\pi^2}{6}.\n",
    "$$"
   ]
  },
  {
   "cell_type": "code",
   "execution_count": null,
   "id": "6e041264-1ddf-4f64-9a6a-f5e1693032ec",
   "metadata": {
    "tags": []
   },
   "outputs": [],
   "source": [
    "sum(1/k^2, k, 1, Infinity)                      # Try other positive even integers instead of 2"
   ]
  },
  {
   "cell_type": "markdown",
   "id": "d83b9f5c-a34c-4deb-a314-00e021dacc51",
   "metadata": {},
   "source": [
    "## Multivariate calculus"
   ]
  },
  {
   "cell_type": "markdown",
   "id": "0e73f92b-e794-4e4c-9773-6788eed8492a",
   "metadata": {},
   "source": [
    "The difference from $2$ variables to $n$ is mostly just bookkeeping, so I'll just discuss $2$ variables.\n",
    "\n",
    "We can use the `derivative` method to take partial derivatives."
   ]
  },
  {
   "cell_type": "code",
   "execution_count": null,
   "id": "ad1a70c7-3c6a-44ab-9785-da344d1e0745",
   "metadata": {
    "tags": []
   },
   "outputs": [],
   "source": [
    "f = x + y - e^(x^2 + y^2)\n",
    "f"
   ]
  },
  {
   "cell_type": "code",
   "execution_count": null,
   "id": "9eecf742-7fe7-4333-a7bc-85441d1a5525",
   "metadata": {
    "tags": []
   },
   "outputs": [],
   "source": [
    "f.derivative(x)"
   ]
  },
  {
   "cell_type": "code",
   "execution_count": null,
   "id": "81427cda-aab0-4dd6-9ef5-f004f3d2326e",
   "metadata": {
    "tags": []
   },
   "outputs": [],
   "source": [
    "f.derivative(y)"
   ]
  },
  {
   "cell_type": "code",
   "execution_count": null,
   "id": "39dbff15-55bf-405b-8aef-437acb71f8e9",
   "metadata": {
    "tags": []
   },
   "outputs": [],
   "source": [
    "f.gradient()"
   ]
  },
  {
   "cell_type": "markdown",
   "id": "0bea39ec-484d-4076-9946-7c941b7237a1",
   "metadata": {},
   "source": [
    "Like in the univariate setting, we can plot, but we need to do something else.\n",
    "\n",
    "For multivariate functions, `plot` does not work."
   ]
  },
  {
   "cell_type": "code",
   "execution_count": null,
   "id": "645229b3-ec3c-4574-b7b3-0df71f5e4f8d",
   "metadata": {
    "tags": []
   },
   "outputs": [],
   "source": [
    "plot3d(f, [-1, 1], [-1, 1], frame=True)                      # frame default is True"
   ]
  },
  {
   "cell_type": "code",
   "execution_count": null,
   "id": "8870c5e1-e95a-4a1e-9982-b4ad40272bca",
   "metadata": {
    "tags": []
   },
   "outputs": [],
   "source": [
    "f.integral(x).integral(y)"
   ]
  },
  {
   "cell_type": "markdown",
   "id": "b1ddac76-0e4f-41dc-b8c6-3eb524c9d676",
   "metadata": {},
   "source": [
    "### Vector fields"
   ]
  },
  {
   "cell_type": "markdown",
   "id": "9d4016c7-4ab3-4269-ab54-5a6b9fcfb6f0",
   "metadata": {
    "tags": []
   },
   "source": [
    "We can work with vector fields in SageMath and plot them."
   ]
  },
  {
   "cell_type": "code",
   "execution_count": null,
   "id": "94fde3e1-c66f-4bf8-92af-dad79ef7b7ac",
   "metadata": {
    "tags": []
   },
   "outputs": [],
   "source": [
    "F(x,y) = (-x, y)\n",
    "F"
   ]
  },
  {
   "cell_type": "code",
   "execution_count": null,
   "id": "c964ac49-40a8-409b-acc1-52e1862b4f21",
   "metadata": {
    "tags": []
   },
   "outputs": [],
   "source": [
    "plot_vector_field(F/F.norm(), (x, -1, 1), (y, -1, 1))"
   ]
  },
  {
   "cell_type": "code",
   "execution_count": null,
   "id": "0e2594a4-325c-45f2-b509-146cd074fcfd",
   "metadata": {
    "tags": []
   },
   "outputs": [],
   "source": [
    "F(x, y) = (y,(cos(x)-2) * sin(x))\n",
    "F"
   ]
  },
  {
   "cell_type": "code",
   "execution_count": null,
   "id": "f3218b67-8aae-48a0-a0a7-8a07def93011",
   "metadata": {
    "tags": []
   },
   "outputs": [],
   "source": [
    "plot_vector_field(F, (x, -3*pi, 3*pi), (y, -8, 8), color='blue')"
   ]
  },
  {
   "cell_type": "markdown",
   "id": "e0b4bc6f-7410-47cc-ace0-da0cc4d635dc",
   "metadata": {},
   "source": [
    "## Exercises"
   ]
  },
  {
   "cell_type": "markdown",
   "id": "558ae912-7d0e-48ca-84c7-25a96f7734ad",
   "metadata": {},
   "source": [
    "1. Construct a symbolic expression in the variable `'t'` including exponents, cosine, $e$, $\\pi$, and $\\ln$ (SageMath writes this as `log`).\n",
    "2. Plot the function from (1). Choose parameters so that the (viewing) window is reasonable.\n",
    "2. Take at least 2 derivatives of the function from (1), compute an antiderivative, and numerically integrate it over a reasonable interval.\n",
    "2. Play around with some of the other objects we've discussed as well. "
   ]
  }
 ],
 "metadata": {
  "kernelspec": {
   "display_name": "SageMath 9.5",
   "language": "sage",
   "name": "sagemath"
  },
  "language_info": {
   "codemirror_mode": {
    "name": "ipython",
    "version": 3
   },
   "file_extension": ".py",
   "mimetype": "text/x-python",
   "name": "python",
   "nbconvert_exporter": "python",
   "pygments_lexer": "ipython3",
   "version": "3.11.2"
  }
 },
 "nbformat": 4,
 "nbformat_minor": 5
}
