{
 "cells": [
  {
   "cell_type": "markdown",
   "id": "f3306138-b562-4a7a-a105-e07dc20cd2e3",
   "metadata": {
    "tags": []
   },
   "source": [
    "# Polynomials and Rational Functions"
   ]
  },
  {
   "cell_type": "markdown",
   "id": "ac5c2238-f0bf-44af-90bd-faf0a2da5b07",
   "metadata": {},
   "source": [
    "Polynomials are particularly nice functions. \n",
    "\n",
    "This is why they feature so prominently in mathematics. "
   ]
  },
  {
   "cell_type": "markdown",
   "id": "1a786b66-603d-46cb-8bd9-ef8037b114ae",
   "metadata": {},
   "source": [
    "There are several different ways to create polynomials in SageMath."
   ]
  },
  {
   "cell_type": "markdown",
   "id": "f45d9e2f-63a6-4210-a1bf-1d5ed3b3f05b",
   "metadata": {},
   "source": [
    "## Polynomials from symbolic expressions"
   ]
  },
  {
   "cell_type": "markdown",
   "id": "89667ac0-8b18-4614-bfdc-9b00892639cf",
   "metadata": {},
   "source": [
    "Here's what we did last time."
   ]
  },
  {
   "cell_type": "code",
   "execution_count": null,
   "id": "9f164e6d-5164-4933-8d42-71cef7d07119",
   "metadata": {
    "tags": []
   },
   "outputs": [],
   "source": [
    "pretty_print_default(True)\n",
    "x = var('x')\n",
    "f = x^2 - 5*x + 6\n",
    "f"
   ]
  },
  {
   "cell_type": "code",
   "execution_count": null,
   "id": "5c25e8a7-7c8c-4294-9c6a-ea9741734ea5",
   "metadata": {
    "tags": []
   },
   "outputs": [],
   "source": [
    "print(type(f))"
   ]
  },
  {
   "cell_type": "markdown",
   "id": "d989017a-2c61-401c-accd-a96e10d6ef42",
   "metadata": {},
   "source": [
    "Although `f` is a polynomial, Sage doesn't know it.\n",
    "\n",
    "In order to translate `f` into a polynomial *type*, we need to supply a set of coefficients."
   ]
  },
  {
   "cell_type": "code",
   "execution_count": null,
   "id": "7d2f67ad-4179-4267-9531-0c4645c939fd",
   "metadata": {
    "tags": []
   },
   "outputs": [],
   "source": [
    "p = f.polynomial(QQ)\n",
    "print(type(p))\n",
    "p"
   ]
  },
  {
   "cell_type": "markdown",
   "id": "33763b86-41d7-4878-8da9-1b414dd61db8",
   "metadata": {},
   "source": [
    "This difference is mostly not important, but there are some differences."
   ]
  },
  {
   "cell_type": "code",
   "execution_count": null,
   "id": "f2a15668-5eb8-4af5-b9da-fa289abb8028",
   "metadata": {
    "tags": []
   },
   "outputs": [],
   "source": [
    "p.roots()"
   ]
  },
  {
   "cell_type": "code",
   "execution_count": null,
   "id": "9b4fcac3-2ee6-4e53-990b-11b22377848b",
   "metadata": {
    "tags": []
   },
   "outputs": [],
   "source": [
    "f.roots()"
   ]
  },
  {
   "cell_type": "code",
   "execution_count": null,
   "id": "40d29940-24a6-4669-b84c-ec6a64e92c44",
   "metadata": {
    "tags": []
   },
   "outputs": [],
   "source": [
    "p.coefficients()"
   ]
  },
  {
   "cell_type": "code",
   "execution_count": null,
   "id": "382e7684-88af-480e-ba64-0800f51d217c",
   "metadata": {
    "tags": []
   },
   "outputs": [],
   "source": [
    "f.coefficients()"
   ]
  },
  {
   "cell_type": "markdown",
   "id": "246c13c2-eeca-4aa9-a159-4f4b379e2616",
   "metadata": {},
   "source": [
    "Take away: if you are doing something large and complicated, make sure it's the polynomial type.\n",
    "\n",
    "Otherwise, who cares?"
   ]
  },
  {
   "cell_type": "markdown",
   "id": "e2090152-d861-4c4c-9fd2-e6dbe40b296c",
   "metadata": {},
   "source": [
    "*I've had to stop a symbolic computation that took the entire weekend.*\n",
    " \n",
    "*Changing it to a polynomial type reduced the computation to about 5 hours.*"
   ]
  },
  {
   "cell_type": "markdown",
   "id": "e914cddb-e224-4021-b2dc-47df3baf1774",
   "metadata": {
    "tags": []
   },
   "source": [
    "## Using polynomial variables"
   ]
  },
  {
   "cell_type": "markdown",
   "id": "ed7a779f-647a-4de8-ae92-04281236b5b9",
   "metadata": {},
   "source": [
    "If you know you want polynomials with, say, rational coefficients, here's something easy."
   ]
  },
  {
   "cell_type": "code",
   "execution_count": null,
   "id": "12275804-9531-4e67-8796-2f2809c72718",
   "metadata": {
    "tags": []
   },
   "outputs": [],
   "source": [
    "x, y = polygens(QQ, 'x,y')\n",
    "y"
   ]
  },
  {
   "cell_type": "markdown",
   "id": "c2b59458-3a36-4dba-a7e2-2d01ecdba01f",
   "metadata": {},
   "source": [
    "We'll define a special kind of polynomial."
   ]
  },
  {
   "cell_type": "code",
   "execution_count": null,
   "id": "653e2e35-9bfe-42ef-8576-22fbe0af1bf1",
   "metadata": {
    "tags": []
   },
   "outputs": [],
   "source": [
    "g = x^3 - y^2 - 14*x + 15\n",
    "g"
   ]
  },
  {
   "cell_type": "code",
   "execution_count": null,
   "id": "1523c0e9-5245-4eae-b4a8-60b07282dd58",
   "metadata": {
    "tags": []
   },
   "outputs": [],
   "source": [
    "g.variables()"
   ]
  },
  {
   "cell_type": "code",
   "execution_count": null,
   "id": "78db0ad2-ebdc-4d2b-80c1-71359358f6d4",
   "metadata": {
    "tags": []
   },
   "outputs": [],
   "source": [
    "g.degree(x), g.degree(y)"
   ]
  },
  {
   "cell_type": "markdown",
   "id": "f46e1478-40b0-4e01-a4a1-4d07c0f72820",
   "metadata": {},
   "source": [
    "The equation $g = 0$ does not yield a function, but we can implicitly graph it."
   ]
  },
  {
   "cell_type": "code",
   "execution_count": null,
   "id": "355f77fd-2088-4a83-a1c0-72f405542462",
   "metadata": {
    "tags": []
   },
   "outputs": [],
   "source": [
    "implicit_plot(g, (x, -6, 6), (y, -10, 10))"
   ]
  },
  {
   "cell_type": "markdown",
   "id": "340cd551-4e66-47b6-96cf-2cd075d6edfd",
   "metadata": {},
   "source": [
    "## Basic polynomial functions"
   ]
  },
  {
   "cell_type": "markdown",
   "id": "58ea653e-4454-4f4b-b950-877cae74185e",
   "metadata": {},
   "source": [
    "Perhaps one of the most useful polynomial function is factoring."
   ]
  },
  {
   "cell_type": "code",
   "execution_count": null,
   "id": "91abe82c-1b4b-421b-8c05-a86e6fd52352",
   "metadata": {
    "tags": []
   },
   "outputs": [],
   "source": [
    "x, y = polygens(QQ, 'x,y')\n",
    "f = x^99 + y^99\n",
    "f"
   ]
  },
  {
   "cell_type": "markdown",
   "id": "9bff2e35-90a2-4916-a42c-55e4a2c5982a",
   "metadata": {},
   "source": [
    "Does $f$ factor? This is trivial to check."
   ]
  },
  {
   "cell_type": "code",
   "execution_count": null,
   "id": "81dd9ac8-c879-491a-af24-29c2302376a4",
   "metadata": {
    "tags": []
   },
   "outputs": [],
   "source": [
    "g = f.factor()\n",
    "g"
   ]
  },
  {
   "cell_type": "markdown",
   "id": "fd2c757a-0bab-4f74-b975-99db189b653f",
   "metadata": {},
   "source": [
    "Note that `f.factor()` is a *factored* polynomial.  "
   ]
  },
  {
   "cell_type": "code",
   "execution_count": null,
   "id": "d58b09fd-c828-4ee3-a461-8137a3cf3e62",
   "metadata": {
    "tags": []
   },
   "outputs": [],
   "source": [
    "list(g)     # Compare with f"
   ]
  },
  {
   "cell_type": "markdown",
   "id": "13fbb6b4-b2cc-4f6f-9d19-8ee9074c0643",
   "metadata": {},
   "source": [
    "We can get from a *factored polynomial* to a *polynomial* with `expand`."
   ]
  },
  {
   "cell_type": "code",
   "execution_count": null,
   "id": "00fe3e43-9c29-48a6-ada9-baaab2c31bdc",
   "metadata": {
    "tags": []
   },
   "outputs": [],
   "source": [
    "g.expand()"
   ]
  },
  {
   "cell_type": "markdown",
   "id": "31825cbc-ffae-4f65-b6d8-062026ac0820",
   "metadata": {},
   "source": [
    "Let's consider a product of two irreducibles."
   ]
  },
  {
   "cell_type": "code",
   "execution_count": null,
   "id": "45d0e1e6-89b8-4f1b-b163-d36446d7a9ae",
   "metadata": {
    "tags": []
   },
   "outputs": [],
   "source": [
    "h = (x + y)*(x^2 + x*y  + y^2)\n",
    "h"
   ]
  },
  {
   "cell_type": "markdown",
   "id": "79a6467a-c594-40c9-bdb3-508c333e4469",
   "metadata": {
    "tags": []
   },
   "source": [
    "One of differences between polynomials and symbolic expressions is the automatic simplification."
   ]
  },
  {
   "cell_type": "code",
   "execution_count": null,
   "id": "b7722b94-6776-4074-9ced-1bdb25c2559b",
   "metadata": {
    "tags": []
   },
   "outputs": [],
   "source": [
    "h / (x + y) "
   ]
  },
  {
   "cell_type": "markdown",
   "id": "f8e94be3-1b83-4d28-8b8f-9e5d003e2498",
   "metadata": {},
   "source": [
    "Sometimes, it cannot simplify, and then we just have a rational expression."
   ]
  },
  {
   "cell_type": "code",
   "execution_count": null,
   "id": "9d9ec282-f487-4350-8643-af94a06d1d3a",
   "metadata": {
    "tags": []
   },
   "outputs": [],
   "source": [
    "h / (x^2 + y^2)"
   ]
  },
  {
   "cell_type": "markdown",
   "id": "cc9ca502-fc46-4450-9a24-703e3a6a046f",
   "metadata": {},
   "source": [
    "We can do standard substitutions of the variables."
   ]
  },
  {
   "cell_type": "code",
   "execution_count": null,
   "id": "8c124009-2d6d-43d9-a643-5028e7e65304",
   "metadata": {
    "tags": []
   },
   "outputs": [],
   "source": [
    "h(x=1, y=-2)"
   ]
  },
  {
   "cell_type": "code",
   "execution_count": null,
   "id": "8f34c885-05e2-415d-b576-213ecc9b3220",
   "metadata": {
    "tags": []
   },
   "outputs": [],
   "source": [
    "m = h(x=y+1)\n",
    "m"
   ]
  },
  {
   "cell_type": "markdown",
   "id": "2b892c6b-0c99-4b03-bcb1-9d5b68ab2e50",
   "metadata": {},
   "source": [
    "Another useful method is `roots`.\n",
    "\n",
    "But we will run into problems with our polynomial `m`."
   ]
  },
  {
   "cell_type": "code",
   "execution_count": null,
   "id": "46cde853-736e-45ae-9365-8bfdf41a01a0",
   "metadata": {},
   "outputs": [],
   "source": [
    "# m.roots()      # No method due to multivariate"
   ]
  },
  {
   "cell_type": "code",
   "execution_count": null,
   "id": "53e4c581-9d27-4711-950b-bd9c522d0ddf",
   "metadata": {
    "tags": []
   },
   "outputs": [],
   "source": [
    "print(type(m))"
   ]
  },
  {
   "cell_type": "markdown",
   "id": "e8523baa-9c90-49e0-bb54-f32f58b1dffc",
   "metadata": {},
   "source": [
    "The important thing in that is `multi_polynomial` or `MPolynomial`."
   ]
  },
  {
   "cell_type": "code",
   "execution_count": null,
   "id": "1fab4477-33ee-45d4-9991-f59d4d9bbcbb",
   "metadata": {
    "tags": []
   },
   "outputs": [],
   "source": [
    "u = m.univariate_polynomial()\n",
    "u"
   ]
  },
  {
   "cell_type": "code",
   "execution_count": null,
   "id": "e692daec-1c52-4df8-a61f-7a12f0b52b40",
   "metadata": {
    "tags": []
   },
   "outputs": [],
   "source": [
    "u.roots()"
   ]
  },
  {
   "cell_type": "markdown",
   "id": "db31864e-f5a4-4ffd-ac27-ba77dd856c53",
   "metadata": {
    "tags": []
   },
   "source": [
    "This will only give the rational roots since those were our coefficients. "
   ]
  },
  {
   "cell_type": "code",
   "execution_count": null,
   "id": "9c4892d4-b80b-4716-9138-d81a868cf3e1",
   "metadata": {
    "tags": []
   },
   "outputs": [],
   "source": [
    "u.roots(RR)"
   ]
  },
  {
   "cell_type": "markdown",
   "id": "d14cf662-bf8b-4947-bb38-f254602f2e88",
   "metadata": {},
   "source": [
    "So there's only one real root. What about the complex roots? "
   ]
  },
  {
   "cell_type": "code",
   "execution_count": null,
   "id": "1c48f83e-8d98-4d88-b32f-1edfd88b1eab",
   "metadata": {
    "tags": []
   },
   "outputs": [],
   "source": [
    "u.roots(CC)"
   ]
  },
  {
   "cell_type": "markdown",
   "id": "13a265c5-5255-40ce-b489-32729ababa41",
   "metadata": {},
   "source": [
    "We can observe that there is indeed only one real root.\n",
    "\n",
    "*There is no plot function for multivariate polynomials.*"
   ]
  },
  {
   "cell_type": "code",
   "execution_count": null,
   "id": "fd310f80-007b-4754-bbd1-766a17fa18e6",
   "metadata": {
    "tags": []
   },
   "outputs": [],
   "source": [
    "u.plot()"
   ]
  },
  {
   "cell_type": "markdown",
   "id": "2730ab5a-398a-4bc7-a127-a46a4ac42e3e",
   "metadata": {},
   "source": [
    "## Exercises"
   ]
  },
  {
   "cell_type": "markdown",
   "id": "804f163d-31bf-4ff6-a594-4e12d5542c23",
   "metadata": {},
   "source": [
    "1. Determine the exact coefficients of the cubic polynomial with roots at $1/3$, $\\sqrt{2}$, and $-\\sqrt{2}$.\n",
    "1. Plot the polynomial in (1) to observe the three roots.\n",
    "2. Divide the polynomial from (1) by the polynomial (with the same variable as in (1))\n",
    "$$\n",
    "    x^3 - \\dfrac{1}{3}x^2 - 9x + 3\n",
    "$$\n",
    "3. What is the coefficient of $x^{10}$ in the following polynomial?\n",
    "$$\n",
    "    \\prod_{k=1}^{20} (1 - kx)\n",
    "$$"
   ]
  }
 ],
 "metadata": {
  "kernelspec": {
   "display_name": "SageMath 9.5",
   "language": "sage",
   "name": "sagemath"
  },
  "language_info": {
   "codemirror_mode": {
    "name": "ipython",
    "version": 3
   },
   "file_extension": ".py",
   "mimetype": "text/x-python",
   "name": "python",
   "nbconvert_exporter": "python",
   "pygments_lexer": "ipython3",
   "version": "3.11.2"
  }
 },
 "nbformat": 4,
 "nbformat_minor": 5
}
