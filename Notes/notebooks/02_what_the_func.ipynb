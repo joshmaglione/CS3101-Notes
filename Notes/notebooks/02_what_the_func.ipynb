{
 "cells": [
  {
   "cell_type": "markdown",
   "metadata": {},
   "source": [
    "(badges)"
   ]
  },
  {
   "cell_type": "markdown",
   "metadata": {},
   "source": [
    "# Python functions and $\\lambda$ s"
   ]
  },
  {
   "cell_type": "markdown",
   "metadata": {},
   "source": [
    "One of the primary uses of a function in Python is to repeat a given task on different data (i.e. input)."
   ]
  },
  {
   "cell_type": "markdown",
   "metadata": {},
   "source": [
    "## `def`"
   ]
  },
  {
   "cell_type": "markdown",
   "metadata": {},
   "source": [
    "Remember from `01_lists_and_lists.ipynb`, we had the following snippet."
   ]
  },
  {
   "cell_type": "code",
   "execution_count": null,
   "metadata": {},
   "outputs": [],
   "source": [
    "sample = [83, 57, 11, 14, 36, 73, 60]\n",
    "\n",
    "s = 0                           # initial value\n",
    "for x in sample:\n",
    "    s = s + x                   # aggregating\n",
    "mean = s / len(sample)\n",
    "print(mean)"
   ]
  },
  {
   "cell_type": "markdown",
   "metadata": {},
   "source": [
    "If the `sample` data changes, then we have the update that block of code with the new sample data. \n",
    "\n",
    "The rest of the code is oblivious to `sample`, and this is a kew indicator that we can extract this part out into its own *function*."
   ]
  },
  {
   "cell_type": "markdown",
   "metadata": {},
   "source": [
    "Functions in Python have a simple layout. \n",
    "\n",
    "```python\n",
    "def <name>(<input>):\n",
    "    <code>\n",
    "```"
   ]
  },
  {
   "cell_type": "markdown",
   "metadata": {},
   "source": [
    "For our sample mean example, we might write the following."
   ]
  },
  {
   "cell_type": "code",
   "execution_count": null,
   "metadata": {},
   "outputs": [],
   "source": [
    "# A function that computes the sample mean on the given list 'samp'.\n",
    "def sample_mean(samp):\n",
    "    s = 0                           # initial value\n",
    "    for x in samp:\n",
    "        s = s + x                   # aggregating\n",
    "    mean = s / len(samp)\n",
    "    return mean"
   ]
  },
  {
   "cell_type": "code",
   "execution_count": null,
   "metadata": {},
   "outputs": [],
   "source": [
    "sample_mean(sample)"
   ]
  },
  {
   "cell_type": "markdown",
   "metadata": {},
   "source": [
    "Functions can be as complicated as you like. \n",
    "\n",
    "Typically we try to keep them small and neat, so that it is easy to read and understand what is going on.\n",
    "\n",
    "One should find their balance between zillions of micro functions and one monolithic function. Perhaps this is easier after some mediation. 😌"
   ]
  },
  {
   "cell_type": "markdown",
   "metadata": {},
   "source": [
    "## `lambda`"
   ]
  },
  {
   "cell_type": "markdown",
   "metadata": {},
   "source": [
    "Another way to write functions is via a `lambda` function (also called an [anonymous function](https://en.wikipedia.org/wiki/Anonymous_function))."
   ]
  },
  {
   "cell_type": "markdown",
   "metadata": {},
   "source": []
  }
 ],
 "metadata": {
  "kernelspec": {
   "display_name": "Python 3",
   "language": "python",
   "name": "python3"
  },
  "language_info": {
   "codemirror_mode": {
    "name": "ipython",
    "version": 3
   },
   "file_extension": ".py",
   "mimetype": "text/x-python",
   "name": "python",
   "nbconvert_exporter": "python",
   "pygments_lexer": "ipython3",
   "version": "3.12.0"
  }
 },
 "nbformat": 4,
 "nbformat_minor": 2
}
