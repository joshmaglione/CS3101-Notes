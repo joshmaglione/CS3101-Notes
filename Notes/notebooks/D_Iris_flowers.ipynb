{
 "cells": [
  {
   "cell_type": "markdown",
   "metadata": {},
   "source": [
    "<a target=\"_blank\" href=\"https://mybinder.org/v2/gh/joshmaglione/CS3101-Notes/HEAD?labpath=Notes%2Fnotebooks%2FD_Iris_flowers.ipynb\">\n",
    "  <img src=\"https://mybinder.org/badge_logo.svg\" alt=\"Binder\"/>\n",
    "</a> \n",
    "<a target=\"_blank\" href=\"https://colab.research.google.com/github/joshmaglione/CS3101-Notes/blob/main/Notes/notebooks/D_Iris_flowers.ipynb\">\n",
    "  <img src=\"https://colab.research.google.com/assets/colab-badge.svg\" alt=\"Open In Colab\"/>\n",
    "</a> <a target=\"_blank\" href=\"https://github.com/joshmaglione/CS3101-Notes/blob/main/Notes/notebooks/D_Iris_flowers.ipynb\">View on GitHub</a>"
   ]
  },
  {
   "cell_type": "markdown",
   "metadata": {},
   "source": [
    "# Iris flowers"
   ]
  },
  {
   "cell_type": "markdown",
   "metadata": {},
   "source": [
    "We will be looking at a famous data set of three iris species. \n",
    "\n",
    "This demonstrates the capabilities of Python and packages, including:\n",
    "- NumPy,\n",
    "- Matplotlib,\n",
    "- Scikit-learn,\n",
    "\n",
    "which have benefited from significant mathematical and statistical advances in data science. "
   ]
  },
  {
   "cell_type": "markdown",
   "metadata": {},
   "source": [
    "## Brief background"
   ]
  },
  {
   "cell_type": "markdown",
   "metadata": {},
   "source": [
    "In the 1930s, botanist [Edgar Anderson](https://en.wikipedia.org/wiki/Edgar_Anderson) gathered data on three species of irises. \n",
    "\n",
    "The data was published in 1936 in the [Annals of the Missouri Botanical Garden](https://doi.org/10.2307/2394164).\n",
    "\n",
    "The data set was made famous by [Ronald Fisher](https://en.wikipedia.org/wiki/Ronald_Fisher) who used it as an example of linear discriminant analysis, also in 1936. It was published in the [Annals of Eugenics](https://doi.org/10.1111/j.1469-1809.1936.tb02137.x)."
   ]
  },
  {
   "cell_type": "markdown",
   "metadata": {},
   "source": [
    "The data comprises a sample of $50$ points in $\\mathbb{R}^4$. \n",
    "\n",
    "Anderson measured the pedal and sepal lengths and widths. "
   ]
  },
  {
   "cell_type": "markdown",
   "metadata": {},
   "source": [
    "## The data"
   ]
  },
  {
   "cell_type": "markdown",
   "metadata": {},
   "source": [
    "Let's finally load the data and take a brief look at it."
   ]
  },
  {
   "cell_type": "code",
   "execution_count": null,
   "metadata": {},
   "outputs": [],
   "source": [
    "import numpy as np\n",
    "import matplotlib.pyplot as plt\n",
    "from sklearn.datasets import load_iris\n",
    "iris = load_iris()\n",
    "iris"
   ]
  },
  {
   "cell_type": "markdown",
   "metadata": {},
   "source": [
    "We will exploit the fact that scatter plots in `Matplotlib` can display $4$ dimensions:\n",
    "- $x$ values\n",
    "- $y$ values\n",
    "- color\n",
    "- size of marker."
   ]
  },
  {
   "cell_type": "markdown",
   "metadata": {},
   "source": [
    "We will map the `target` array to color. Since there are only three speices, there will be three distinct colors.\n",
    "\n",
    "We have three more dimensions we can display: $x$, $y$, and size. "
   ]
  },
  {
   "cell_type": "markdown",
   "metadata": {},
   "source": [
    "#### Organization"
   ]
  },
  {
   "cell_type": "markdown",
   "metadata": {},
   "source": [
    "There are four measurements, so there are $4$ different sets of size $3$ we can consider. \n",
    "\n",
    "Of those $3$, there are essentially only $3$ different plots -- where interchanging $x$ and $y$ isn't really different.\n",
    "\n",
    "In total, there are potentially $12$ distinct plots. Let's plot them all."
   ]
  },
  {
   "cell_type": "markdown",
   "metadata": {},
   "source": [
    "Here are two helper functions."
   ]
  },
  {
   "cell_type": "code",
   "execution_count": null,
   "metadata": {},
   "outputs": [],
   "source": [
    "def triple(i, j, s=False):\n",
    "\tv = list(range(4))\n",
    "\tv.remove(3 - j)\n",
    "\tu = v[:i] + v[i+1:] + [v[i]]\n",
    "\tif s:\n",
    "\t\treturn ''.join(map(str, u))\n",
    "\treturn u\n",
    "\n",
    "def scaled(arr, N=200):\n",
    "\tm = arr.max()\n",
    "\treturn N/m * arr"
   ]
  },
  {
   "cell_type": "markdown",
   "metadata": {},
   "source": [
    "Here's how we will organize. The string `'ijk'` represents the list `[i, j, k]`. \n",
    "\n",
    "The first two entries of the list are the $x$ and $y$ values, and the last entry is the size."
   ]
  },
  {
   "cell_type": "code",
   "execution_count": null,
   "metadata": {},
   "outputs": [],
   "source": [
    "np.array([[triple(i, j, s=True) for j in range(4)] for i in range(3)])"
   ]
  },
  {
   "cell_type": "markdown",
   "metadata": {},
   "source": [
    "One notices that each of the $12$ strings indicates a unique plot."
   ]
  },
  {
   "cell_type": "markdown",
   "metadata": {},
   "source": [
    "## Plotting the data"
   ]
  },
  {
   "cell_type": "markdown",
   "metadata": {},
   "source": [
    "Now let's plot all of the data!"
   ]
  },
  {
   "cell_type": "code",
   "execution_count": null,
   "metadata": {},
   "outputs": [],
   "source": [
    "features = iris.data.T\n",
    "fig, axs = plt.subplots(3, 4, figsize=(12, 6))\n",
    "for i in range(3):\n",
    "    for j in range(4):\n",
    "        a, b, c = triple(i, j)\n",
    "        axs[i, j].scatter(features[a], features[b], alpha=0.5,\n",
    "            s=scaled(features[c], N=100), c=iris.target, cmap='viridis')\n",
    "        axs[i, j].set_xlabel(iris.feature_names[a])\n",
    "        axs[i, j].set_ylabel(iris.feature_names[b])\n",
    "        axs[i, j].set_title(iris.feature_names[c])\n",
    "plt.tight_layout()      # Make the labels fit\n",
    "_ = plt.show()"
   ]
  },
  {
   "cell_type": "markdown",
   "metadata": {},
   "source": [
    "If the colors weren't there, would you be able to draw the distinction between the three species? "
   ]
  },
  {
   "cell_type": "markdown",
   "metadata": {},
   "source": [
    "## Applying mathematical and statistical tools"
   ]
  },
  {
   "cell_type": "markdown",
   "metadata": {},
   "source": [
    "One common tool to help visualize high-dimensional data is Principal Component Analysis (PCA).\n",
    "\n",
    "PCA is a tool from linear algebra, and without explaining any of it, we apply it to the iris data set."
   ]
  },
  {
   "cell_type": "code",
   "execution_count": null,
   "metadata": {},
   "outputs": [],
   "source": [
    "from sklearn.decomposition import PCA\n",
    "\n",
    "# Perform PCA\n",
    "pca = PCA(n_components=2)\n",
    "iris_pca = pca.fit_transform(iris.data)\n",
    "\n",
    "# Create a scatter plot\n",
    "plt.scatter(iris_pca[:, 0], iris_pca[:, 1], c=iris.target, cmap='viridis')\n",
    "plt.xlabel('PC1')\n",
    "plt.ylabel('PC2')\n",
    "plt.title('PCA Projection of Iris Dataset')\n",
    "plt.show()"
   ]
  },
  {
   "cell_type": "markdown",
   "metadata": {},
   "source": [
    "Notice that the three species seem to fit into three clusters. \n",
    "\n",
    "There are some border cases between the species corresponding to the green and yellow color, but otherwise it appears to correctly distinguish the species. "
   ]
  },
  {
   "cell_type": "markdown",
   "metadata": {},
   "source": [
    "This is a common approach to classifying (or labeling) data. "
   ]
  }
 ],
 "metadata": {
  "kernelspec": {
   "display_name": "Python 3",
   "language": "python",
   "name": "python3"
  },
  "language_info": {
   "codemirror_mode": {
    "name": "ipython",
    "version": 3
   },
   "file_extension": ".py",
   "mimetype": "text/x-python",
   "name": "python",
   "nbconvert_exporter": "python",
   "pygments_lexer": "ipython3",
   "version": "3.12.0"
  }
 },
 "nbformat": 4,
 "nbformat_minor": 2
}
