{
 "cells": [
  {
   "cell_type": "markdown",
   "metadata": {},
   "source": [
    "<a target=\"_blank\" href=\"https://mybinder.org/v2/gh/joshmaglione/CS3101-Notes/HEAD?labpath=Notes%2Fnotebooks%2F08_data.ipynb\">\n",
    "  <img src=\"https://mybinder.org/badge_logo.svg\" alt=\"Binder\"/>\n",
    "</a> \n",
    "<a target=\"_blank\" href=\"https://colab.research.google.com/github/joshmaglione/CS3101-Notes/blob/main/Notes/notebooks/08_data.ipynb\">\n",
    "  <img src=\"https://colab.research.google.com/assets/colab-badge.svg\" alt=\"Open In Colab\"/>\n",
    "</a> <a target=\"_blank\" href=\"https://github.com/joshmaglione/CS3101-Notes/blob/main/Notes/notebooks/08_data.ipynb\">View on GitHub</a>"
   ]
  },
  {
   "cell_type": "markdown",
   "metadata": {},
   "source": [
    "# Working with data"
   ]
  },
  {
   "cell_type": "markdown",
   "metadata": {},
   "source": [
    "One of the common ways to use Python is to manipulate data.\n",
    "\n",
    "Data comes in many different forms, so there are various tools for specific tasks."
   ]
  },
  {
   "cell_type": "markdown",
   "metadata": {},
   "source": [
    "## Opening files"
   ]
  },
  {
   "cell_type": "markdown",
   "metadata": {},
   "source": [
    "We will load the contents of two different files into Python.\n",
    "\n",
    "The basic syntax for reading and writing files is the same."
   ]
  },
  {
   "cell_type": "markdown",
   "metadata": {},
   "source": [
    "We use `with` statements:\n",
    "\n",
    "```python\n",
    "with open(<filename>, <attribute>) as <name>:\n",
    "\t<code>\n",
    "```"
   ]
  },
  {
   "cell_type": "markdown",
   "metadata": {},
   "source": [
    "There's a bit to unpack here.\n",
    "\n",
    "- `<filename>` is the location of the file you want to open as a *string*.\n",
    "- `<attribute>` is a string signifying what you want to do with the file:\n",
    "  - `'r'` for read\n",
    "  - `'w'` for write\n",
    "  - `'a'` for append\n",
    "- `<name>` is the variable name for the opened file.\n",
    "- `<code>` is the block of code that is run while the file is open."
   ]
  },
  {
   "cell_type": "markdown",
   "metadata": {},
   "source": [
    "There are other ways to open files, but the `with` statement is the best and safest."
   ]
  },
  {
   "cell_type": "markdown",
   "metadata": {},
   "source": [
    "Regardless of what the data in the file is, the contents will always be read as strings."
   ]
  },
  {
   "cell_type": "markdown",
   "metadata": {},
   "source": [
    "**Note.** If you write to a file, you overwrite any potential contents. This is why `'a'` exists."
   ]
  },
  {
   "cell_type": "markdown",
   "metadata": {},
   "source": [
    "### Opening a `txt` file"
   ]
  },
  {
   "cell_type": "markdown",
   "metadata": {},
   "source": [
    "This is likely not the prototypical file type, but it is a good first example. \n",
    "\n",
    "Let's open `../data/first_example.txt`. \n",
    "\n",
    "(You might have the file located somewhere else.)"
   ]
  },
  {
   "cell_type": "code",
   "execution_count": null,
   "metadata": {},
   "outputs": [],
   "source": [
    "with open(\"../data/first_example.txt\", \"r\") as f:\n",
    "\tcontents = f.read()\n",
    "print(contents)"
   ]
  },
  {
   "cell_type": "markdown",
   "metadata": {},
   "source": [
    "Although `contents` prints nicely, it is just one string."
   ]
  },
  {
   "cell_type": "code",
   "execution_count": null,
   "metadata": {},
   "outputs": [],
   "source": [
    "contents"
   ]
  },
  {
   "cell_type": "markdown",
   "metadata": {},
   "source": [
    "Lots of various string methods we could use to manipulate the data. "
   ]
  },
  {
   "cell_type": "code",
   "execution_count": null,
   "metadata": {},
   "outputs": [],
   "source": [
    "print(contents.capitalize())"
   ]
  },
  {
   "cell_type": "code",
   "execution_count": null,
   "metadata": {},
   "outputs": [],
   "source": [
    "print(contents.replace(' ',''))"
   ]
  },
  {
   "cell_type": "markdown",
   "metadata": {},
   "source": [
    "Instead of falling down the `str` rabbit hole, let's load in data from a `csv` file."
   ]
  },
  {
   "cell_type": "markdown",
   "metadata": {},
   "source": [
    "One can do this the csv module that comes with Python, however, we might want to *manipulate* the data once we load it in.\n",
    "\n",
    "`pandas` enables us to load in data from a huge variety of sources. Let's use that."
   ]
  },
  {
   "cell_type": "markdown",
   "metadata": {},
   "source": [
    "## Exercises"
   ]
  },
  {
   "cell_type": "markdown",
   "metadata": {},
   "source": [
    "1. Load all of the contents of `../data/exercise.txt` into Python\n",
    "2. Save a new file called `EXERCISE.txt` where every letter is capitalized.\n",
    "3. Add some text to the original file, `../data/exercise.txt`, without replacing what is there."
   ]
  },
  {
   "cell_type": "markdown",
   "metadata": {},
   "source": [
    "---\n",
    "\n",
    "Let's go discuss pandas:\n",
    "\n",
    "- `09_panda_bears.ipynb` <a target=\"_blank\" href=\"https://mybinder.org/v2/gh/joshmaglione/CS3101-Notes/HEAD?labpath=Notes%2Fnotebooks%2F09_panda_bears.ipynb\">\n",
    "  <img src=\"https://mybinder.org/badge_logo.svg\" alt=\"Binder\"/>\n",
    "</a> \n",
    "<a target=\"_blank\" href=\"https://colab.research.google.com/github/joshmaglione/CS3101-Notes/blob/main/Notes/notebooks/09_panda_bears.ipynb\">\n",
    "  <img src=\"https://colab.research.google.com/assets/colab-badge.svg\" alt=\"Open In Colab\"/>\n",
    "</a> <a target=\"_blank\" href=\"https://github.com/joshmaglione/CS3101-Notes/blob/main/Notes/notebooks/09_panda_bears.ipynb\">View on GitHub</a>"
   ]
  }
 ],
 "metadata": {
  "kernelspec": {
   "display_name": "Python 3",
   "language": "python",
   "name": "python3"
  },
  "language_info": {
   "codemirror_mode": {
    "name": "ipython",
    "version": 3
   },
   "file_extension": ".py",
   "mimetype": "text/x-python",
   "name": "python",
   "nbconvert_exporter": "python",
   "pygments_lexer": "ipython3",
   "version": "3.12.0"
  }
 },
 "nbformat": 4,
 "nbformat_minor": 2
}
