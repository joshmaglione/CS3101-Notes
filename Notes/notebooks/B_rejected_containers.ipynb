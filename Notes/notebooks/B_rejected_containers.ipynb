{
 "cells": [
  {
   "cell_type": "markdown",
   "metadata": {},
   "source": [
    "<a target=\"_blank\" href=\"https://mybinder.org/v2/gh/joshmaglione/CS3101-Notes/HEAD?labpath=Notes%2Fnotebooks%2FB_rejected_containers.ipynb\">\n",
    "  <img src=\"https://mybinder.org/badge_logo.svg\" alt=\"Binder\"/>\n",
    "</a> \n",
    "<a target=\"_blank\" href=\"https://colab.research.google.com/github/joshmaglione/CS3101-Notes/blob/main/Notes/notebooks/B_rejected_containers.ipynb\">\n",
    "  <img src=\"https://colab.research.google.com/assets/colab-badge.svg\" alt=\"Open In Colab\"/>\n",
    "</a> <a target=\"_blank\" href=\"https://github.com/joshmaglione/CS3101-Notes/blob/main/Notes/notebooks/B_rejected_containers.ipynb\">View on GitHub</a>"
   ]
  },
  {
   "cell_type": "markdown",
   "metadata": {},
   "source": [
    "# Other containers (the rejects) -- OPTIONAL"
   ]
  },
  {
   "cell_type": "markdown",
   "metadata": {},
   "source": [
    "That's only meant as a joke. Personally I love all containers equally, even though I call on lists more frequently."
   ]
  },
  {
   "cell_type": "markdown",
   "metadata": {},
   "source": [
    "## Sets"
   ]
  },
  {
   "cell_type": "markdown",
   "metadata": {},
   "source": [
    "Sets in Python are like their mathematical counter-part.\n",
    "\n",
    "They are unordered, and they do not repeat entries."
   ]
  },
  {
   "cell_type": "code",
   "execution_count": null,
   "metadata": {},
   "outputs": [],
   "source": [
    "l = [1, 1, 5, 3, 4]\n",
    "print(l)\n",
    "s = set(l)\n",
    "print(s)"
   ]
  },
  {
   "cell_type": "markdown",
   "metadata": {},
   "source": [
    "Because sets are unordered, you cannot access its members like with lists and tuples.\n",
    "\n",
    "One can perform set-theoretic operations. "
   ]
  },
  {
   "cell_type": "code",
   "execution_count": null,
   "metadata": {},
   "outputs": [],
   "source": [
    "t = set([2, 4, 5])\n",
    "print(t)\n",
    "\n",
    "print(s.difference(t))      # s \\ t  : removes all entries of t from s."
   ]
  },
  {
   "cell_type": "markdown",
   "metadata": {},
   "source": [
    "Sets are the perfect tools for what they are designed for. (Tautology??)"
   ]
  },
  {
   "cell_type": "markdown",
   "metadata": {},
   "source": [
    "## Dictionaries"
   ]
  },
  {
   "cell_type": "markdown",
   "metadata": {},
   "source": [
    "A Python dictionary is similar to a mathematical function, but a bit ad hoc and sporadic. Quite useful!\n",
    "\n",
    "Dictionaries take key-value pairs, which is another way of saying input-output values. "
   ]
  },
  {
   "cell_type": "code",
   "execution_count": null,
   "metadata": {},
   "outputs": [],
   "source": [
    "d = {1: \"one\", 2: \"two\", 3: \"three\"}"
   ]
  },
  {
   "cell_type": "markdown",
   "metadata": {},
   "source": [
    "Values to the left of the `:` are the \"keys\" (i.e. input), and the values to the right of the `:` are the \"values\" (i.e. output).\n",
    "\n",
    "You can access the value by giving the dictionary the appropriate key."
   ]
  },
  {
   "cell_type": "code",
   "execution_count": null,
   "metadata": {},
   "outputs": [],
   "source": [
    "d[1]"
   ]
  },
  {
   "cell_type": "markdown",
   "metadata": {},
   "source": [
    "Like with mathematical functions, you cannot provide two different output for one input, so you cannot use a key more than once in a dictionary."
   ]
  },
  {
   "cell_type": "markdown",
   "metadata": {},
   "source": [
    "Dictionary keys and values can be almost anything."
   ]
  },
  {
   "cell_type": "code",
   "execution_count": null,
   "metadata": {},
   "outputs": [],
   "source": [
    "life_stats = {\n",
    "    \"age\": 99,\n",
    "    \"friends\": [\"him\", \"her\", \"them\"],\n",
    "    \"interests\": [\"maths\"],\n",
    "    \"helped\": 60*2*50,\n",
    "}"
   ]
  },
  {
   "cell_type": "code",
   "execution_count": null,
   "metadata": {},
   "outputs": [],
   "source": [
    "life_stats[\"age\"]"
   ]
  },
  {
   "cell_type": "markdown",
   "metadata": {},
   "source": [
    "You cannot successfully evaluate a dictionary on an undefined key."
   ]
  },
  {
   "cell_type": "code",
   "execution_count": null,
   "metadata": {},
   "outputs": [],
   "source": [
    "# life_stats[\"wealth\"]        # naughty naughty"
   ]
  }
 ],
 "metadata": {
  "kernelspec": {
   "display_name": "Python 3",
   "language": "python",
   "name": "python3"
  },
  "language_info": {
   "codemirror_mode": {
    "name": "ipython",
    "version": 3
   },
   "file_extension": ".py",
   "mimetype": "text/x-python",
   "name": "python",
   "nbconvert_exporter": "python",
   "pygments_lexer": "ipython3",
   "version": "3.12.0"
  }
 },
 "nbformat": 4,
 "nbformat_minor": 2
}
