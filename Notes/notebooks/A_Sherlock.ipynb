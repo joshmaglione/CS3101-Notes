{
 "cells": [
  {
   "cell_type": "markdown",
   "metadata": {},
   "source": [
    "<a target=\"_blank\" href=\"https://mybinder.org/v2/gh/joshmaglione/CS3101-Notes/HEAD?labpath=Notes%2Fnotebooks%2FA_Sherlock.ipynb\">\n",
    "  <img src=\"https://mybinder.org/badge_logo.svg\" alt=\"Binder\"/>\n",
    "</a> \n",
    "<a target=\"_blank\" href=\"https://colab.research.google.com/github/joshmaglione/CS3101-Notes/blob/main/Notes/notebooks/A_Sherlock.ipynb\">\n",
    "  <img src=\"https://colab.research.google.com/assets/colab-badge.svg\" alt=\"Open In Colab\"/>\n",
    "</a> <a target=\"_blank\" href=\"https://github.com/joshmaglione/CS3101-Notes/blob/main/Notes/notebooks/A_Sherlock.ipynb\">View on GitHub</a>"
   ]
  },
  {
   "cell_type": "markdown",
   "metadata": {},
   "source": [
    "# Fun with colour -- OPTIONAL"
   ]
  },
  {
   "cell_type": "markdown",
   "metadata": {},
   "source": [
    "You don't need to understand the details of what happens in here. "
   ]
  },
  {
   "cell_type": "markdown",
   "metadata": {},
   "source": [
    "Feel free to play around with your own image files. \n",
    "\n",
    "I have included:\n",
    "\n",
    "![](../imgs/Sherlock.jpg)\n",
    "\n",
    "![](../imgs/rabbit.jpg)\n",
    "\n",
    "![](../imgs/tubular.jpeg)"
   ]
  },
  {
   "cell_type": "markdown",
   "metadata": {},
   "source": [
    "## Images to 3D plots"
   ]
  },
  {
   "cell_type": "markdown",
   "metadata": {},
   "source": [
    "The following function `image_to_plot` takes\n",
    "1. a string `file` and \n",
    "2. an integer `N`, \n",
    "   \n",
    "and it returns a plot of `N` randomly selected pixels from the image file determined by `file` in $\\mathbb{R}^3$ -- for its `(red, green, blue)` values."
   ]
  },
  {
   "cell_type": "code",
   "execution_count": null,
   "metadata": {},
   "outputs": [],
   "source": [
    "def image_to_plot(file:str, N:int):\n",
    "    from PIL import Image\n",
    "    import numpy as np\n",
    "    import matplotlib.pyplot as plt\n",
    "    img = Image.open(file)\n",
    "    aimg = np.asarray(img)/255\n",
    "    acolor = aimg.reshape(aimg.shape[0]*aimg.shape[1], aimg.shape[2])\n",
    "    fig = plt.figure()\n",
    "    ax = fig.add_subplot(projection='3d')\n",
    "    rng = np.random.default_rng()\n",
    "    S = rng.choice(acolor.shape[0], size=N, replace=False)\n",
    "    xs, ys, zs = np.array([acolor[s,:] for s in S]).T\n",
    "    ax.scatter3D(xs, ys, zs, s=0.5)\n",
    "    ax.set_xlabel(\"R\")\n",
    "    ax.set_ylabel(\"G\")\n",
    "    ax.set_zlabel(\"B\")\n",
    "    return ax"
   ]
  },
  {
   "cell_type": "markdown",
   "metadata": {},
   "source": [
    "The higher the `N` the more work is needed to rotate the following plot."
   ]
  },
  {
   "cell_type": "code",
   "execution_count": null,
   "metadata": {},
   "outputs": [],
   "source": [
    "%matplotlib ipympl\n",
    "fig = image_to_plot(\"../imgs/Sherlock.jpg\", 1000)"
   ]
  },
  {
   "cell_type": "code",
   "execution_count": null,
   "metadata": {},
   "outputs": [],
   "source": [
    "%matplotlib inline"
   ]
  },
  {
   "cell_type": "markdown",
   "metadata": {},
   "source": [
    "## Only the $k$ most popular colours"
   ]
  },
  {
   "cell_type": "markdown",
   "metadata": {},
   "source": [
    "The next function can be understood as editing the image to have exactly $k$ colours, and the choosen colours are somehow the 'most' popular. (This isn't exactly correct...)\n",
    "\n",
    "Be careful, this function is not optimized. For large images, this can take quite some time to produce.\n",
    "\n",
    "The function `k_colours` takes as input\n",
    "1. a string `file` and \n",
    "2. an integer `k`, \n",
    "   \n",
    "and it returns the given image using the $k$ most popular colours. "
   ]
  },
  {
   "cell_type": "code",
   "execution_count": null,
   "metadata": {},
   "outputs": [],
   "source": [
    "def k_colours(file:str, k:int):\n",
    "    from PIL import Image\n",
    "    import numpy as np\n",
    "    from sklearn.cluster import KMeans\n",
    "    import matplotlib.pyplot as plt\n",
    "    plt.figure().clear()\n",
    "    img = Image.open(file)\n",
    "    aimg = np.asarray(img)/255\n",
    "    acolor = aimg.reshape(aimg.shape[0]*aimg.shape[1], aimg.shape[2])\n",
    "    kmeans = KMeans(n_clusters=k, random_state=0, n_init=\"auto\").fit(acolor)\n",
    "    means = [list(map(lambda x: x, pt)) for pt in kmeans.cluster_centers_]\n",
    "    result = np.asarray(list(map(lambda i: means[i], kmeans.labels_)))\n",
    "    aimg_new = result.reshape(aimg.shape[0], aimg.shape[1], aimg.shape[2])\n",
    "    return Image.fromarray((aimg_new * 255).astype(np.uint8))"
   ]
  },
  {
   "cell_type": "markdown",
   "metadata": {},
   "source": [
    "Try it out."
   ]
  },
  {
   "cell_type": "code",
   "execution_count": null,
   "metadata": {},
   "outputs": [],
   "source": [
    "k_colours(\"../imgs/tubular.jpeg\", 10)"
   ]
  }
 ],
 "metadata": {
  "kernelspec": {
   "display_name": "Python 3",
   "language": "python",
   "name": "python3"
  },
  "language_info": {
   "codemirror_mode": {
    "name": "ipython",
    "version": 3
   },
   "file_extension": ".py",
   "mimetype": "text/x-python",
   "name": "python",
   "nbconvert_exporter": "python",
   "pygments_lexer": "ipython3",
   "version": "3.12.0"
  }
 },
 "nbformat": 4,
 "nbformat_minor": 2
}
