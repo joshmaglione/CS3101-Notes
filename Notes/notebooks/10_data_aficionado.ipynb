{
 "cells": [
  {
   "cell_type": "markdown",
   "metadata": {},
   "source": [
    "<a target=\"_blank\" href=\"https://mybinder.org/v2/gh/joshmaglione/CS3101-Notes/HEAD?labpath=Notes%2Fnotebooks%2F10_data_aficionado.ipynb\">\n",
    "  <img src=\"https://mybinder.org/badge_logo.svg\" alt=\"Binder\"/>\n",
    "</a> \n",
    "<a target=\"_blank\" href=\"https://colab.research.google.com/github/joshmaglione/CS3101-Notes/blob/main/Notes/notebooks/10_data_aficionado.ipynb\">\n",
    "  <img src=\"https://colab.research.google.com/assets/colab-badge.svg\" alt=\"Open In Colab\"/>\n",
    "</a> <a target=\"_blank\" href=\"https://github.com/joshmaglione/CS3101-Notes/blob/main/Notes/notebooks/10_data_aficionado.ipynb\">View on GitHub</a>"
   ]
  },
  {
   "cell_type": "markdown",
   "metadata": {},
   "source": [
    "# Devotees to data"
   ]
  },
  {
   "cell_type": "markdown",
   "metadata": {},
   "source": [
    "Something was missing in the example from `09_panda_bears.ipynb`. \n",
    "\n",
    "Let's load it up again."
   ]
  },
  {
   "cell_type": "code",
   "execution_count": null,
   "metadata": {},
   "outputs": [],
   "source": [
    "import pandas as pd\n",
    "import matplotlib.pyplot as plt\n",
    "import seaborn as sns\n",
    "sns.set_theme()"
   ]
  },
  {
   "cell_type": "code",
   "execution_count": null,
   "metadata": {},
   "outputs": [],
   "source": [
    "UN_data = pd.read_csv(\n",
    "\t'../data/UN_renewable.csv', \n",
    "\tusecols=['TimePeriod', 'Value'], \n",
    ")\n",
    "df = UN_data.dropna()\n",
    "df = df.rename(columns={'TimePeriod': 'Year', 'Value': 'Percent'})\n",
    "df.astype({'Year': 'int32', 'Percent': 'float64'})\n",
    "df.head()"
   ]
  },
  {
   "cell_type": "markdown",
   "metadata": {},
   "source": [
    "We will use the `seaborn` package to get more statistical information. \n",
    "\n",
    "Seaborn is built on top of Matplotlib and is a \"statistical enhancement\" (over simplification here)."
   ]
  },
  {
   "cell_type": "markdown",
   "metadata": {},
   "source": [
    "We can get the linear regression simply by `regplot`. "
   ]
  },
  {
   "cell_type": "code",
   "execution_count": null,
   "metadata": {},
   "outputs": [],
   "source": [
    "fig, ax = plt.subplots()\n",
    "ax.set_xlim(1999, 2023)\n",
    "ax.set_title('Renewable Energy Consumption')\n",
    "_ = sns.regplot(\n",
    "\tdata=df, \n",
    "\tx='Year', \n",
    "\ty='Percent', \n",
    "\ttruncate=False,\n",
    "\tax=ax\n",
    ")"
   ]
  },
  {
   "cell_type": "markdown",
   "metadata": {},
   "source": [
    "We can take data from later time periods."
   ]
  },
  {
   "cell_type": "code",
   "execution_count": null,
   "metadata": {},
   "outputs": [],
   "source": [
    "fig, ax = plt.subplots()\n",
    "ax.set_xlim(2004, 2022)\n",
    "ax.set_title('Renewable Energy Consumption')\n",
    "_ = sns.regplot(\n",
    "\tdata=df.query('Year > 2004'), \n",
    "\tx='Year', \n",
    "\ty='Percent',\n",
    "\ttruncate=False,\n",
    "\tax=ax\n",
    ")"
   ]
  },
  {
   "cell_type": "markdown",
   "metadata": {},
   "source": [
    "If you want actual statstical information, modules like `statsmodels` are very useful."
   ]
  },
  {
   "cell_type": "markdown",
   "metadata": {},
   "source": [
    "#### How does any of this align with the Central Statistics Office?"
   ]
  },
  {
   "cell_type": "markdown",
   "metadata": {},
   "source": [
    "It doesn't\n",
    "\n",
    "![](https://media.istockphoto.com/id/178972681/photo/apple-to-orange.jpg?s=612x612&w=0&k=20&c=ikVZOj0LlazjTzT47ZiGJce3GUi_LWvA3uji3mdVbG4=)"
   ]
  },
  {
   "cell_type": "markdown",
   "metadata": {},
   "source": [
    "I spent too much time figuring out how different the apples (UN data) were from the oranges (CSO data). \n",
    "\n",
    "I won't bore you with the details."
   ]
  },
  {
   "cell_type": "markdown",
   "metadata": {},
   "source": [
    "## Pengiuns "
   ]
  },
  {
   "cell_type": "markdown",
   "metadata": {},
   "source": [
    "Let's load up a famous data set on penguins."
   ]
  },
  {
   "cell_type": "code",
   "execution_count": null,
   "metadata": {},
   "outputs": [],
   "source": [
    "x = 1\n",
    "df = pd.read_csv(\"../data/penguins.csv\")\n",
    "df.head()"
   ]
  },
  {
   "cell_type": "markdown",
   "metadata": {},
   "source": [
    "We can easily see the specrum of values in a given column."
   ]
  },
  {
   "cell_type": "code",
   "execution_count": null,
   "metadata": {},
   "outputs": [],
   "source": [
    "print(df[\"species\"].value_counts())"
   ]
  },
  {
   "cell_type": "markdown",
   "metadata": {},
   "source": [
    "If you don't know what the three species look like, here you are: \n",
    "\n",
    "![](../imgs/penguin-species.jpg)"
   ]
  },
  {
   "cell_type": "code",
   "execution_count": null,
   "metadata": {},
   "outputs": [],
   "source": [
    "print(df[\"island\"].value_counts())"
   ]
  },
  {
   "cell_type": "markdown",
   "metadata": {},
   "source": [
    "The islands are off the coast of Antarctica.\n",
    "\n",
    "![](../imgs/Islands.png)"
   ]
  },
  {
   "cell_type": "markdown",
   "metadata": {},
   "source": [
    "Suppose we have data like \n",
    "- bill length\n",
    "- bill depth\n",
    "- flipper length\n",
    "- body mass.\n",
    "\n",
    "Could we *predict* the species? "
   ]
  },
  {
   "cell_type": "markdown",
   "metadata": {},
   "source": [
    "We won't answer or really pursue this question much, but the generalization is the following question."
   ]
  },
  {
   "cell_type": "markdown",
   "metadata": {},
   "source": [
    "- What data characterizes a species of peguins? \n",
    "\n",
    "- What data characterizes a species of peguins from a collection of species? "
   ]
  },
  {
   "cell_type": "markdown",
   "metadata": {},
   "source": [
    "You can imagine even the more general question:\n",
    "\n",
    "- What data characterizes object $X$ from a collection similar objects? \n",
    "\n",
    "That is, this is not just about biology."
   ]
  },
  {
   "cell_type": "markdown",
   "metadata": {},
   "source": [
    "One way to address this is to visualize the data."
   ]
  },
  {
   "cell_type": "code",
   "execution_count": null,
   "metadata": {},
   "outputs": [],
   "source": [
    "plt.figure(figsize=(10, 6))\n",
    "sns.scatterplot(\n",
    "\tdata=df, \n",
    "\tx='bill_length_mm', \n",
    "\ty='body_mass_g', \n",
    "\thue='species'\n",
    ")\n",
    "plt.title('Bill Length vs Body Mass differentiated by Species')\n",
    "plt.ylabel('Body Mass (g)')\n",
    "plt.xlabel('Bill Length (mm)')\n",
    "plt.show()"
   ]
  },
  {
   "cell_type": "markdown",
   "metadata": {},
   "source": [
    "We can already see 'clusters' forming."
   ]
  },
  {
   "cell_type": "markdown",
   "metadata": {},
   "source": [
    "Bill length vs body mass was an arbitrary pair. \n",
    "\n",
    "Can we look at *every* pair of possibilities? "
   ]
  },
  {
   "cell_type": "code",
   "execution_count": null,
   "metadata": {},
   "outputs": [],
   "source": [
    "_ = sns.pairplot(df, hue=\"species\")"
   ]
  },
  {
   "cell_type": "markdown",
   "metadata": {},
   "source": [
    "This forms a 'symmetric matrix' of plots.\n",
    "\n",
    "- Diagonals have histograms of the singular data.\n",
    "- The plot in $(i,j)$ is 'transposed' from the plot in $(j,i)$."
   ]
  },
  {
   "cell_type": "markdown",
   "metadata": {},
   "source": [
    "---"
   ]
  },
  {
   "cell_type": "markdown",
   "metadata": {},
   "source": [
    "## Conclusion"
   ]
  },
  {
   "cell_type": "markdown",
   "metadata": {},
   "source": [
    "This concludes our foray into learning about Python, basic programming, and scientific computing, with a drop of data science. "
   ]
  },
  {
   "cell_type": "markdown",
   "metadata": {},
   "source": [
    "Like with the $\\LaTeX$ component, the purpose here is to set a foundation.\n",
    "\n",
    "I hope ...\n",
    "- If you ever need tools that we described or related to what we did, you can search through your notes and find answers to your future problems. \n",
    "- That you will be able to pick up additional tools more easily in this realm if required."
   ]
  },
  {
   "cell_type": "markdown",
   "metadata": {},
   "source": [
    "---"
   ]
  },
  {
   "cell_type": "markdown",
   "metadata": {},
   "source": [
    "Next up is working with a computer algebra system."
   ]
  }
 ],
 "metadata": {
  "kernelspec": {
   "display_name": "Python 3",
   "language": "python",
   "name": "python3"
  },
  "language_info": {
   "codemirror_mode": {
    "name": "ipython",
    "version": 3
   },
   "file_extension": ".py",
   "mimetype": "text/x-python",
   "name": "python",
   "nbconvert_exporter": "python",
   "pygments_lexer": "ipython3",
   "version": "3.12.0"
  }
 },
 "nbformat": 4,
 "nbformat_minor": 2
}
