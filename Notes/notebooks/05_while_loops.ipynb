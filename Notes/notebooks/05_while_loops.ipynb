{
 "cells": [
  {
   "cell_type": "markdown",
   "metadata": {},
   "source": [
    "<a target=\"_blank\" href=\"https://mybinder.org/v2/gh/joshmaglione/CS3101-Notes/HEAD?labpath=Notes%2Fnotebooks%2F05_while_loops.ipynb\">\n",
    "  <img src=\"https://mybinder.org/badge_logo.svg\" alt=\"Binder\"/>\n",
    "</a> \n",
    "<a target=\"_blank\" href=\"https://colab.research.google.com/github/joshmaglione/CS3101-Notes/blob/main/Notes/notebooks/05_while_loops.ipynb\">\n",
    "  <img src=\"https://colab.research.google.com/assets/colab-badge.svg\" alt=\"Open In Colab\"/>\n",
    "</a> <a target=\"_blank\" href=\"https://github.com/joshmaglione/CS3101-Notes/blob/main/Notes/notebooks/05_while_loops.ipynb\">View on GitHub</a>"
   ]
  },
  {
   "cell_type": "markdown",
   "metadata": {},
   "source": [
    "# While loops"
   ]
  },
  {
   "cell_type": "markdown",
   "metadata": {},
   "source": [
    "`while` loops are a name for a style of repeating tasks, similar to `for` loops.\n",
    "\n",
    "`while` loops repeat a task *while* a boolean expression is `True`; once it is `False`, then the loop ends.\n",
    "\n",
    "Compare this to `for` loops that essentially just run through the elements of a list. "
   ]
  },
  {
   "cell_type": "markdown",
   "metadata": {},
   "source": [
    "This means that `while` loops can go on forever. (Feature or bug?!)"
   ]
  },
  {
   "cell_type": "markdown",
   "metadata": {},
   "source": [
    "The basic format of a `while` loop in Python is like the `for` loop:\n",
    "\n",
    "```python\n",
    "while <boolean expression>:\n",
    "\t<code>\n",
    "```"
   ]
  },
  {
   "cell_type": "markdown",
   "metadata": {},
   "source": [
    "Here's a mundane example:\n",
    "\n",
    "```python\n",
    "x = 0\n",
    "while x < 5:\n",
    "\tx = x + 1\n",
    "```"
   ]
  },
  {
   "cell_type": "code",
   "execution_count": null,
   "metadata": {},
   "outputs": [],
   "source": [
    "x = 0\n",
    "while x < 5:\n",
    "\tprint(f\"Still stuck in the loop with {x = }\")\n",
    "\tx = x + 1"
   ]
  },
  {
   "cell_type": "markdown",
   "metadata": {},
   "source": [
    "As mentioned, `while` loops have the potential to never terminate. \n",
    "\n",
    "![](../imgs/Marvin.jpg)"
   ]
  },
  {
   "cell_type": "code",
   "execution_count": null,
   "metadata": {},
   "outputs": [],
   "source": [
    "from numpy import random as rng\n",
    "\n",
    "while True:\n",
    "\tx, y = rng.randint(1, 10, 2)\n",
    "\tz = input(f\"Marvin: 'What is {x} times {y}?'\\nYou: \")\n",
    "\tif int(z) == x*y:\n",
    "\t\tprint(\"Incredible, it's even worse than I thought it would be.\")\n",
    "\telse: \n",
    "\t\tprint(\"Oh why do I bother?\")"
   ]
  },
  {
   "cell_type": "markdown",
   "metadata": {},
   "source": [
    "Here's another example, where the `while` will repeat some number of times, but we cannot say *how many* times."
   ]
  },
  {
   "cell_type": "code",
   "execution_count": null,
   "metadata": {},
   "outputs": [],
   "source": [
    "x = rng.randint(1, 10)\n",
    "while x != 5:\n",
    "\tprint(f\"{x = }\")\n",
    "\tx = rng.randint(1, 10)"
   ]
  },
  {
   "cell_type": "markdown",
   "metadata": {},
   "source": [
    "## Exercises"
   ]
  },
  {
   "cell_type": "markdown",
   "metadata": {},
   "source": [
    "1. Use a `while` loop to print only the multiples of $7$ between $23$ and $104$. Do not use `for` loops. Can you do this without an `if` statement?\n",
    "2. Write a function that takes a string and checks that there is at least two digits $\\{0, \\dots, 9\\}$ contained in it."
   ]
  },
  {
   "cell_type": "markdown",
   "metadata": {},
   "source": [
    "---\n",
    "\n",
    "Let's play around with a mathematical plotting package called `matplotlib`:\n",
    "\n",
    "- `06_plotting_curves.ipynb` <a target=\"_blank\" href=\"https://mybinder.org/v2/gh/joshmaglione/CS3101-Notes/HEAD?labpath=Notes%2Fnotebooks%2F06_plotting_curves.ipynb\">\n",
    "  <img src=\"https://mybinder.org/badge_logo.svg\" alt=\"Binder\"/>\n",
    "</a> \n",
    "<a target=\"_blank\" href=\"https://colab.research.google.com/github/joshmaglione/CS3101-Notes/blob/main/Notes/notebooks/06_plotting_curves.ipynb\">\n",
    "  <img src=\"https://colab.research.google.com/assets/colab-badge.svg\" alt=\"Open In Colab\"/>\n",
    "</a> <a target=\"_blank\" href=\"https://github.com/joshmaglione/CS3101-Notes/blob/main/Notes/notebooks/06_plotting_curves.ipynb\">View on GitHub</a>\n",
    "\n",
    "However, now is a good time to learn about Jupyter's *magic* commands if you are interested: \n",
    "\n",
    "- `C_magic.ipynb` <a target=\"_blank\" href=\"https://mybinder.org/v2/gh/joshmaglione/CS3101-Notes/HEAD?labpath=Notes%2Fnotebooks%2FC_magic.ipynb\">\n",
    "  <img src=\"https://mybinder.org/badge_logo.svg\" alt=\"Binder\"/>\n",
    "</a> \n",
    "<a target=\"_blank\" href=\"https://colab.research.google.com/github/joshmaglione/CS3101-Notes/blob/main/Notes/notebooks/C_magic.ipynb\">\n",
    "  <img src=\"https://colab.research.google.com/assets/colab-badge.svg\" alt=\"Open In Colab\"/>\n",
    "</a> <a target=\"_blank\" href=\"https://github.com/joshmaglione/CS3101-Notes/blob/main/Notes/notebooks/C_magic.ipynb\">View on GitHub</a>"
   ]
  }
 ],
 "metadata": {
  "kernelspec": {
   "display_name": "Python 3",
   "language": "python",
   "name": "python3"
  },
  "language_info": {
   "codemirror_mode": {
    "name": "ipython",
    "version": 3
   },
   "file_extension": ".py",
   "mimetype": "text/x-python",
   "name": "python",
   "nbconvert_exporter": "python",
   "pygments_lexer": "ipython3",
   "version": "3.12.0"
  }
 },
 "nbformat": 4,
 "nbformat_minor": 2
}
