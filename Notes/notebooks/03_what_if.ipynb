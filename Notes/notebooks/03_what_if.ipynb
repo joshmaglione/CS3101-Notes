{
 "cells": [
  {
   "cell_type": "markdown",
   "metadata": {},
   "source": [
    "<a target=\"_blank\" href=\"https://mybinder.org/v2/gh/joshmaglione/CS3101-Notes/HEAD?labpath=Notes%2Fnotebooks%2F03_what_if.ipynb\">\n",
    "  <img src=\"https://mybinder.org/badge_logo.svg\" alt=\"Binder\"/>\n",
    "</a> \n",
    "<a target=\"_blank\" href=\"https://colab.research.google.com/github/joshmaglione/CS3101-Notes/blob/main/Notes/notebooks/03_what_if.ipynb\">\n",
    "  <img src=\"https://colab.research.google.com/assets/colab-badge.svg\" alt=\"Open In Colab\"/>\n",
    "</a> <a target=\"_blank\" href=\"https://github.com/joshmaglione/CS3101-Notes/blob/main/Notes/notebooks/03_what_if.ipynb\">View on GitHub</a>"
   ]
  },
  {
   "cell_type": "markdown",
   "metadata": {},
   "source": [
    "# If statements"
   ]
  },
  {
   "cell_type": "markdown",
   "metadata": {},
   "source": [
    "This is a fundamental of coding, and I don't know why it is coming in so late, but there you go."
   ]
  },
  {
   "cell_type": "markdown",
   "metadata": {},
   "source": [
    "The phrase \"If\" or \"If then\" captures the basic idea of what the code does.\n",
    "\n",
    "```python\n",
    "if <boolean>:\n",
    "    <code-A>\n",
    "else: \n",
    "    <code-B>\n",
    "```"
   ]
  },
  {
   "cell_type": "markdown",
   "metadata": {},
   "source": [
    "The code looks at the `<boolean>`, and ...\n",
    "- if it is `True`, then `<code-A>` is executed *without* going through `<code-B>`\n",
    "- if it is `False`, then `<code-A>` is *skipped* and `<code-B>` is executed."
   ]
  },
  {
   "cell_type": "markdown",
   "metadata": {},
   "source": [
    "Let's look at an example. [Bonus points if you know the quotes.]"
   ]
  },
  {
   "cell_type": "code",
   "execution_count": null,
   "metadata": {},
   "outputs": [],
   "source": [
    "x = 5\n",
    "if x > 10: \n",
    "    print(\"Whoa that's a lotta nuts!\")\n",
    "else: \n",
    "    print(\"So cute, bye bye.\")"
   ]
  },
  {
   "cell_type": "markdown",
   "metadata": {},
   "source": [
    "This example is a bit contrived, but the two blocks of code can be *vastly* different. "
   ]
  },
  {
   "cell_type": "code",
   "execution_count": null,
   "metadata": {},
   "outputs": [],
   "source": [
    "if True:\n",
    "    # This always runs\n",
    "    print(\"As expected\")\n",
    "else: \n",
    "    # This never runs\n",
    "    print(\"Unexpected\")"
   ]
  },
  {
   "cell_type": "markdown",
   "metadata": {},
   "source": [
    "## No else"
   ]
  },
  {
   "cell_type": "markdown",
   "metadata": {},
   "source": [
    "If then statements do not need to have `else`. If you want the code to do something special when one condition is met, then you can exclude `else`."
   ]
  },
  {
   "cell_type": "code",
   "execution_count": null,
   "metadata": {},
   "outputs": [],
   "source": [
    "password = \"1234568\"\n",
    "if len(password) < 8 or len(password) > 32: \n",
    "    print(\"Hey! Your password is unacceptable.\")"
   ]
  },
  {
   "cell_type": "markdown",
   "metadata": {},
   "source": [
    "You can do a little [more](https://docs.python.org/3/tutorial/controlflow.html#if-statements) with If statments, in case you are interested."
   ]
  },
  {
   "cell_type": "markdown",
   "metadata": {},
   "source": [
    "## Exercises"
   ]
  },
  {
   "cell_type": "markdown",
   "metadata": {},
   "source": [
    "1. Determine all of the integers $n$ in $[1, 1000]$ such that $n$ \n",
    "\t- is equal to $1$ modulo $3$, \n",
    "\t- is equal to $3$ modulo $7$, and\n",
    "\t- is equal to $2$ modulo $11$\n",
    "  \n",
    "   and compute their sum.\n",
    "   \n",
    "   **Hint:** The modulus operation is achieved with the `%`. For example `5 % 3` will return `2`.\n",
    "2. Write a function that takes a string `password` and checks that the following criteria hold:\n",
    "\t- it has at least $8$ characters,\n",
    "\t- it has at least $2$ numbers, \n",
    "\t- it has at least $2$ characters from the set $\\{!, @, \\#, \\$, \\%, \\^{} \\,, \\&, *, (, ), -, =, +, \\sim \\}$"
   ]
  },
  {
   "cell_type": "markdown",
   "metadata": {},
   "source": [
    "---\n",
    "\n",
    "Let's talk about Python modules next. Let's go!\n",
    "\n",
    "- `04_modules.ipynb` <a target=\"_blank\" href=\"https://mybinder.org/v2/gh/joshmaglione/CS3101-Notes/HEAD?labpath=Notes%2Fnotebooks%2F04_modules.ipynb\">\n",
    "  <img src=\"https://mybinder.org/badge_logo.svg\" alt=\"Binder\"/>\n",
    "</a> \n",
    "<a target=\"_blank\" href=\"https://colab.research.google.com/github/joshmaglione/CS3101-Notes/blob/main/Notes/notebooks/04_modules.ipynb\">\n",
    "  <img src=\"https://colab.research.google.com/assets/colab-badge.svg\" alt=\"Open In Colab\"/>\n",
    "</a> <a target=\"_blank\" href=\"https://github.com/joshmaglione/CS3101-Notes/blob/main/Notes/notebooks/04_modules.ipynb\">View on GitHub</a>"
   ]
  }
 ],
 "metadata": {
  "kernelspec": {
   "display_name": "Python 3",
   "language": "python",
   "name": "python3"
  },
  "language_info": {
   "codemirror_mode": {
    "name": "ipython",
    "version": 3
   },
   "file_extension": ".py",
   "mimetype": "text/x-python",
   "name": "python",
   "nbconvert_exporter": "python",
   "pygments_lexer": "ipython3",
   "version": "3.12.0"
  }
 },
 "nbformat": 4,
 "nbformat_minor": 2
}
