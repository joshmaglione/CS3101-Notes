{
 "cells": [
  {
   "cell_type": "markdown",
   "metadata": {},
   "source": [
    "<a target=\"_blank\" href=\"https://mybinder.org/v2/gh/joshmaglione/CS3101-Notes/HEAD?labpath=Notes%2Fnotebooks%2F07_more_visualization.ipynb\">\n",
    "  <img src=\"https://mybinder.org/badge_logo.svg\" alt=\"Binder\"/>\n",
    "</a> \n",
    "<a target=\"_blank\" href=\"https://colab.research.google.com/github/joshmaglione/CS3101-Notes/blob/main/Notes/notebooks/07_more_visualization.ipynb\">\n",
    "  <img src=\"https://colab.research.google.com/assets/colab-badge.svg\" alt=\"Open In Colab\"/>\n",
    "</a> <a target=\"_blank\" href=\"https://github.com/joshmaglione/CS3101-Notes/blob/main/Notes/notebooks/07_more_visualization.ipynb\">View on GitHub</a>"
   ]
  },
  {
   "cell_type": "markdown",
   "metadata": {},
   "source": [
    "# Matplotlib : continued! "
   ]
  },
  {
   "cell_type": "markdown",
   "metadata": {},
   "source": [
    "[Last time](https://github.com/joshmaglione/CS3101-Notes/blob/main/Notes/notebooks/05_plotting_curves.ipynb) we saw how to do some basic plotting with [Matplotlib](https://matplotlib.org/).\n",
    "\n",
    "We will continue our escapades. \n",
    "\n",
    "We will **not** exhaustively go through all the options provided by Matplotlib. Consider perusing their [examples](https://matplotlib.org/stable/gallery/index)."
   ]
  },
  {
   "cell_type": "markdown",
   "metadata": {},
   "source": [
    "We will run through the examples a little more quickly this time. "
   ]
  },
  {
   "cell_type": "markdown",
   "metadata": {},
   "source": [
    "## Scatter plots"
   ]
  },
  {
   "cell_type": "markdown",
   "metadata": {},
   "source": [
    "Let's suppose we had a collection of data using two variables. \n",
    "\n",
    "We want to plot the data to see if there might be a relationship."
   ]
  },
  {
   "cell_type": "markdown",
   "metadata": {},
   "source": [
    "We will deal with real world data sets when we have discussed [pandas](https://pandas.pydata.org/), but until then, let's just make up our own."
   ]
  },
  {
   "cell_type": "code",
   "execution_count": null,
   "metadata": {},
   "outputs": [],
   "source": [
    "import numpy as np \n",
    "import matplotlib.pyplot as plt "
   ]
  },
  {
   "cell_type": "markdown",
   "metadata": {},
   "source": [
    "We will generate $10$ points continuously uniformly at random in the interval $[0, 1)$."
   ]
  },
  {
   "cell_type": "code",
   "execution_count": null,
   "metadata": {},
   "outputs": [],
   "source": [
    "ts = np.random.random(size=10)"
   ]
  },
  {
   "cell_type": "markdown",
   "metadata": {},
   "source": [
    "We will sample our dependent variable, which we assume follows a normal distribution with $\\mu = 0.5$ and $\\sigma = 0.33$."
   ]
  },
  {
   "cell_type": "code",
   "execution_count": null,
   "metadata": {},
   "outputs": [],
   "source": [
    "xs = np.random.normal(0.5, 0.33, 10)"
   ]
  },
  {
   "cell_type": "code",
   "execution_count": null,
   "metadata": {},
   "outputs": [],
   "source": [
    "fig, ax = plt.subplots()\n",
    "ax.grid()\n",
    "ax.set_xlabel(\"$t$\")\n",
    "ax.set_ylabel(\"$x$\")\n",
    "ax.scatter(ts, xs)\n",
    "\n",
    "plt.show()"
   ]
  },
  {
   "cell_type": "markdown",
   "metadata": {},
   "source": [
    "Suppose we had two different samples with the same variables."
   ]
  },
  {
   "cell_type": "markdown",
   "metadata": {},
   "source": [
    "Let's plot them together in the same plot, and let's use different markers and colors to distinguish the different samples."
   ]
  },
  {
   "cell_type": "code",
   "execution_count": null,
   "metadata": {},
   "outputs": [],
   "source": [
    "# Build our data\n",
    "t1s = np.random.random(size=10)\n",
    "t2s = np.random.random(size=13)\n",
    "xs = np.random.normal(1.2, 0.33, 10)\n",
    "ys = np.random.normal(1.3, 0.4, 13)\n",
    "\n",
    "# Build our plot\n",
    "fig, ax = plt.subplots()\n",
    "ax.set_title(\"Running speeds\")\n",
    "ax.grid()\n",
    "ax.set_xlabel(\"Time\")\n",
    "ax.set_ylabel(\"Distance\")\n",
    "ax.scatter(t1s, xs, color=\"blue\", label=\"Sample 1\", marker=\"o\")\n",
    "ax.scatter(t2s, ys, color=\"red\", label=\"Sample 2\", marker=\"^\")\n",
    "ax.legend()\n",
    "\n",
    "plt.show()"
   ]
  },
  {
   "cell_type": "markdown",
   "metadata": {},
   "source": [
    "## Bar plots"
   ]
  },
  {
   "cell_type": "markdown",
   "metadata": {},
   "source": [
    "This example is taken directly from [Matplotlib's bar plot example](https://matplotlib.org/stable/gallery/lines_bars_and_markers/bar_colors.html#sphx-glr-gallery-lines-bars-and-markers-bar-colors-py) with a twist."
   ]
  },
  {
   "cell_type": "markdown",
   "metadata": {},
   "source": [
    "My son is 1.5 years old and loves Ella fruit pouches.\n",
    "\n",
    "![](../imgs/Ella.jpg)\n",
    "\n",
    "It is important to Ella that fruit of a particular color get grouped together, so we will create a bar plot describing the supply of various fruit and their color. \n",
    "\n",
    "The point isn't that people cannot figure it out, but rather we can communicate more efficiently by incorporating this data in our visualization."
   ]
  },
  {
   "cell_type": "code",
   "execution_count": null,
   "metadata": {},
   "outputs": [],
   "source": [
    "# Build our data\n",
    "fruits = [\n",
    "\t'apple', 'banana', 'blueberry', 'coconut', 'cherry', 'grape', 'kiwi', 'orange', 'strawberry', 'watermelon'\n",
    "]\n",
    "supply = np.random.randint(10, 180, size=len(fruits))\n",
    "bar_labels = ['all', '_all', 'purple', 'orange', 'red', 'green & purple', 'green', '_orange', 'red & purple', '_red']\n",
    "bar_colors = [\n",
    "\t'tab:blue', 'tab:blue', 'tab:purple', 'tab:orange', 'tab:red', 'tab:cyan', 'tab:green', 'tab:orange', 'tab:pink', 'tab:red'\n",
    "]"
   ]
  },
  {
   "cell_type": "code",
   "execution_count": null,
   "metadata": {},
   "outputs": [],
   "source": [
    "fig, ax = plt.subplots()\n",
    "\n",
    "# Build our bar plot\n",
    "ax.bar(fruits, supply, label=bar_labels, color=bar_colors)\n",
    "ax.set_ylabel('fruit supply')\n",
    "ax.set_title('Fruit supply by kind and color')\n",
    "ax.legend(title='Pouches')\n",
    "\n",
    "plt.show()"
   ]
  },
  {
   "cell_type": "markdown",
   "metadata": {},
   "source": [
    "That plot is a bit crowded. Instead, let's change the format."
   ]
  },
  {
   "cell_type": "code",
   "execution_count": null,
   "metadata": {},
   "outputs": [],
   "source": [
    "fig, ax = plt.subplots()\n",
    "\n",
    "# Build our bar plot\n",
    "ax.set_xlim(0, 200)\n",
    "ax.set_xticks(range(25, 225, 25))\n",
    "ax.barh(\n",
    "\tfruits[::-1], supply[::-1], label=bar_labels[::-1], color=bar_colors[::-1]\n",
    ")\n",
    "ax.set_xlabel('fruit supply')\n",
    "ax.set_title('Fruit supply by kind and color')\n",
    "ax.legend(title='Pouches')\n",
    "\n",
    "plt.show()"
   ]
  },
  {
   "cell_type": "markdown",
   "metadata": {},
   "source": [
    "## Histograms"
   ]
  },
  {
   "cell_type": "markdown",
   "metadata": {},
   "source": [
    "We'll quickly look at histograms, and I'm borrowing from [Matplotlib's example](https://matplotlib.org/stable/gallery/statistics/histogram_features.html#sphx-glr-gallery-statistics-histogram-features-py)."
   ]
  },
  {
   "cell_type": "markdown",
   "metadata": {},
   "source": [
    "We first build our data."
   ]
  },
  {
   "cell_type": "code",
   "execution_count": null,
   "metadata": {},
   "outputs": [],
   "source": [
    "# example data\n",
    "mu = 106  # mean of distribution\n",
    "sigma = 17  # standard deviation of distribution\n",
    "x = np.random.normal(mu, sigma, size=420)\n",
    "num_bins = 42"
   ]
  },
  {
   "cell_type": "code",
   "execution_count": null,
   "metadata": {},
   "outputs": [],
   "source": [
    "fig, ax = plt.subplots()\n",
    "\n",
    "# the histogram of the data\n",
    "n, bins, patches = ax.hist(x, num_bins, density=True)\n",
    "\n",
    "# Tweak spacing to prevent clipping of ylabel\n",
    "plt.show()"
   ]
  },
  {
   "cell_type": "code",
   "execution_count": null,
   "metadata": {},
   "outputs": [],
   "source": [
    "fig, ax = plt.subplots()\n",
    "\n",
    "# the histogram of the data\n",
    "n, bins, patches = ax.hist(x, num_bins, density=True)\n",
    "\n",
    "# add a 'best fit' line\n",
    "y = ((1 / (np.sqrt(2 * np.pi) * sigma)) *\n",
    "     np.exp(-0.5 * (1 / sigma * (bins - mu))**2))\n",
    "ax.plot(bins, y, '--')\n",
    "ax.set_xlabel('Value')\n",
    "ax.set_ylabel('Probability density')\n",
    "ax.set_title('Histogram of normal distribution sample: '\n",
    "             fr'$\\mu={mu:.0f}$, $\\sigma={sigma:.0f}$')\n",
    "\n",
    "# Tweak spacing to prevent clipping of ylabel\n",
    "fig.tight_layout()\n",
    "plt.show()"
   ]
  },
  {
   "cell_type": "markdown",
   "metadata": {},
   "source": [
    "## Exercises\n",
    "\n",
    "1. Find some data or make up your own, and build a bar plot; do the same but for a histogram.\n",
    "2. Check out [multiple plots](https://matplotlib.org/stable/gallery/subplots_axes_and_figures/subplot.html), and build a figure with four plots arranged in a $2\\times 2$ grid. Each subplot should be a plot of a distinct curve.\n",
    "3. Incorporate different styles of plots in your multi-plot from (2). For example, include a bar graph and a histogram."
   ]
  }
 ],
 "metadata": {
  "kernelspec": {
   "display_name": "Python 3",
   "language": "python",
   "name": "python3"
  },
  "language_info": {
   "codemirror_mode": {
    "name": "ipython",
    "version": 3
   },
   "file_extension": ".py",
   "mimetype": "text/x-python",
   "name": "python",
   "nbconvert_exporter": "python",
   "pygments_lexer": "ipython3",
   "version": "3.12.0"
  }
 },
 "nbformat": 4,
 "nbformat_minor": 2
}
