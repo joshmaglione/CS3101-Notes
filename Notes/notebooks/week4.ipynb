{
 "cells": [
  {
   "cell_type": "markdown",
   "metadata": {},
   "source": [
    "(badges)"
   ]
  },
  {
   "cell_type": "markdown",
   "metadata": {},
   "source": [
    "# Week 4: Welcome to Python and Jupyter"
   ]
  },
  {
   "cell_type": "markdown",
   "metadata": {},
   "source": [
    "Python is a general-purpose language, so you can do all sorts of tasks with Python."
   ]
  },
  {
   "cell_type": "markdown",
   "metadata": {},
   "source": [
    "Jupyter notebooks are special files designed to have interactive code and text within the same document.\n",
    "\n",
    "Since we are interacting with Python through Jupyter, we will look at some of the Jupyter basics first."
   ]
  },
  {
   "cell_type": "markdown",
   "metadata": {},
   "source": [
    "## Jupyter "
   ]
  },
  {
   "cell_type": "markdown",
   "metadata": {},
   "source": [
    "Jupyter notebooks comprise 'cells' which can display text in specific ways:\n",
    "- markdown\n",
    "- code"
   ]
  },
  {
   "cell_type": "markdown",
   "metadata": {},
   "source": [
    "### Markdown cells"
   ]
  },
  {
   "cell_type": "markdown",
   "metadata": {},
   "source": [
    "[Markdown](https://en.wikipedia.org/wiki/Markdown) is a general markup language. It's a *very light* HTML."
   ]
  },
  {
   "cell_type": "markdown",
   "metadata": {},
   "source": [
    "You can write *italics*, **bold**, create ordered lists:\n",
    "1. first \n",
    "2. second\n",
    "3. etc.\n",
    "You can create unordered lists:\n",
    "- A\n",
    "- B\n",
    "  - part i\n",
    "  - part ii"
   ]
  },
  {
   "cell_type": "markdown",
   "metadata": {},
   "source": [
    "You can make headers: \n",
    "# Header 1\n",
    "## Header 2\n",
    "### Header 3"
   ]
  },
  {
   "cell_type": "markdown",
   "metadata": {},
   "source": [
    "You can create maths using $\\LaTeX$.\n",
    "\n",
    "$$\n",
    "    \\# \\mathrm{Sp}_{2n}(\\mathbb{F}_q) = q^{2n^2+n} \\prod_{k=1}^n (1 - q^{-2k}).\n",
    "$$"
   ]
  },
  {
   "cell_type": "markdown",
   "metadata": {},
   "source": [
    "You can do a little bit more, but not much more. It's lightweight."
   ]
  },
  {
   "cell_type": "markdown",
   "metadata": {},
   "source": [
    "### Code cells"
   ]
  },
  {
   "cell_type": "markdown",
   "metadata": {},
   "source": [
    "In order to evaluate code, Jupyter needs to know the *kernel*. Basically, this is a way for Jupyter to the specified language.\n",
    "\n",
    "There are lots of different [kernels](https://github.com/jupyter/jupyter/wiki/Jupyter-kernels). \n",
    "\n",
    "Python 3 comes as a default."
   ]
  },
  {
   "cell_type": "markdown",
   "metadata": {},
   "source": [
    "Code cells contain code in the language the kernel can understand.\n",
    "\n",
    "These cells can be edited and executed.\n",
    "\n",
    "Their data impacts the overall state of the notebook. For example, variables in one cell can be called and used in another."
   ]
  },
  {
   "cell_type": "code",
   "execution_count": 2,
   "metadata": {},
   "outputs": [],
   "source": [
    "# Python code\n",
    "x = 1"
   ]
  },
  {
   "cell_type": "code",
   "execution_count": 3,
   "metadata": {},
   "outputs": [
    {
     "name": "stdout",
     "output_type": "stream",
     "text": [
      "4\n"
     ]
    }
   ],
   "source": [
    "print(x + 3)"
   ]
  },
  {
   "cell_type": "markdown",
   "metadata": {},
   "source": [
    "## Python"
   ]
  },
  {
   "cell_type": "markdown",
   "metadata": {},
   "source": [
    "Python can be used for just about anything. [Google, what can Python do?](https://www.google.com/search?q=what+can+python+do&pws=0&gl=us&gws_rd=cr)\n",
    "\n"
   ]
  },
  {
   "cell_type": "code",
   "execution_count": 4,
   "metadata": {},
   "outputs": [
    {
     "name": "stdout",
     "output_type": "stream",
     "text": [
      "Hello World!\n"
     ]
    }
   ],
   "source": [
    "print(\"Hello World!\")"
   ]
  },
  {
   "cell_type": "markdown",
   "metadata": {},
   "source": [
    "Variables are data to be accessed again later."
   ]
  },
  {
   "cell_type": "code",
   "execution_count": 5,
   "metadata": {},
   "outputs": [],
   "source": [
    "x = 1\n",
    "y = \"1\"\n",
    "z = 1.0"
   ]
  },
  {
   "cell_type": "markdown",
   "metadata": {},
   "source": [
    "The variables `x`, `y`, and `z` are not the same data."
   ]
  },
  {
   "cell_type": "code",
   "execution_count": 6,
   "metadata": {},
   "outputs": [
    {
     "name": "stdout",
     "output_type": "stream",
     "text": [
      "1\n"
     ]
    }
   ],
   "source": [
    "print(x)"
   ]
  },
  {
   "cell_type": "markdown",
   "metadata": {},
   "source": [
    "- `x` is an integer,\n",
    "- `y` is a string,\n",
    "- `z` is a float (or floating point number)."
   ]
  },
  {
   "cell_type": "code",
   "execution_count": null,
   "metadata": {},
   "outputs": [],
   "source": []
  }
 ],
 "metadata": {
  "kernelspec": {
   "display_name": "Python 3",
   "language": "python",
   "name": "python3"
  },
  "language_info": {
   "codemirror_mode": {
    "name": "ipython",
    "version": 3
   },
   "file_extension": ".py",
   "mimetype": "text/x-python",
   "name": "python",
   "nbconvert_exporter": "python",
   "pygments_lexer": "ipython3",
   "version": "3.12.1"
  }
 },
 "nbformat": 4,
 "nbformat_minor": 2
}
