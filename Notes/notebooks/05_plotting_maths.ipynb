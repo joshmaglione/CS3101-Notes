{
 "cells": [
  {
   "cell_type": "markdown",
   "metadata": {},
   "source": [
    "<a target=\"_blank\" href=\"https://mybinder.org/v2/gh/joshmaglione/CS3101-Notes/HEAD?labpath=Notes%2Fnotebooks%2F05_plotting_maths.iypnb\">\n",
    "  <img src=\"https://mybinder.org/badge_logo.svg\" alt=\"Binder\"/>\n",
    "</a> \n",
    "<a target=\"_blank\" href=\"https://colab.research.google.com/github/joshmaglione/CS3101-Notes/blob/main/Notes/notebooks/05_plotting_maths.ipynb\">\n",
    "  <img src=\"https://colab.research.google.com/assets/colab-badge.svg\" alt=\"Open In Colab\"/>\n",
    "</a> <a target=\"_blank\" href=\"https://github.com/joshmaglione/CS3101-Notes/blob/main/Notes/notebooks/05_plotting_maths.ipynb\">View on GitHub</a>"
   ]
  },
  {
   "cell_type": "markdown",
   "metadata": {},
   "source": [
    "# Matplotlib"
   ]
  },
  {
   "cell_type": "code",
   "execution_count": null,
   "metadata": {},
   "outputs": [],
   "source": []
  }
 ],
 "metadata": {
  "language_info": {
   "name": "python"
  }
 },
 "nbformat": 4,
 "nbformat_minor": 2
}
