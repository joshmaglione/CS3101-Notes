{
 "cells": [
  {
   "cell_type": "markdown",
   "metadata": {},
   "source": [
    "<a target=\"_blank\" href=\"https://mybinder.org/v2/gh/joshmaglione/CS3101-Notes/HEAD?labpath=Notes%2Fnotebooks%2F09_panda_bears.ipynb\">\n",
    "  <img src=\"https://mybinder.org/badge_logo.svg\" alt=\"Binder\"/>\n",
    "</a> \n",
    "<a target=\"_blank\" href=\"https://colab.research.google.com/github/joshmaglione/CS3101-Notes/blob/main/Notes/notebooks/09_panda_bears.ipynb\">\n",
    "  <img src=\"https://colab.research.google.com/assets/colab-badge.svg\" alt=\"Open In Colab\"/>\n",
    "</a> <a target=\"_blank\" href=\"https://github.com/joshmaglione/CS3101-Notes/blob/main/Notes/notebooks/09_panda_bears.ipynb\">View on GitHub</a>"
   ]
  },
  {
   "cell_type": "markdown",
   "metadata": {},
   "source": [
    "# Pandas: working with data"
   ]
  },
  {
   "cell_type": "markdown",
   "metadata": {},
   "source": [
    "![](../imgs/Pandas.png)"
   ]
  },
  {
   "cell_type": "markdown",
   "metadata": {},
   "source": [
    "The package `pandas` is *ubiquitous* in data science and machine learning.\n",
    "\n",
    "It's a simple package and built on top of `NumPy`.\n",
    "\n",
    "Lots of uses when it comes to data analysis."
   ]
  },
  {
   "cell_type": "markdown",
   "metadata": {},
   "source": [
    "We won't explore the depths, but we will get a feeling for deep and wide it gets."
   ]
  },
  {
   "cell_type": "code",
   "execution_count": null,
   "metadata": {},
   "outputs": [],
   "source": [
    "import pandas as pd"
   ]
  },
  {
   "cell_type": "markdown",
   "metadata": {},
   "source": [
    "The main object is the `pandas` DataFrame.\n",
    "\n",
    "You can think of this like a table or a spreadsheet.\n",
    "\n",
    "(This would make `pandas` like Excel.)"
   ]
  },
  {
   "cell_type": "markdown",
   "metadata": {},
   "source": [
    "## Understanding Ireland's renewable energy"
   ]
  },
  {
   "cell_type": "markdown",
   "metadata": {},
   "source": [
    "The UN has gathered data on a number of countries. \n",
    "\n",
    "One data set they have concerns the [percentage of the share of renewable energy](https://unstats.un.org/sdgs/dataportal/countryprofiles/IRL#goal-7)."
   ]
  },
  {
   "cell_type": "markdown",
   "metadata": {},
   "source": [
    "The data set is `UN_renewable.csv`."
   ]
  },
  {
   "cell_type": "markdown",
   "metadata": {},
   "source": [
    "We could open this using what we learned in `08_data.ipynb`, but we can also take advantage of the infrastructure in `pandas`."
   ]
  },
  {
   "cell_type": "code",
   "execution_count": null,
   "metadata": {},
   "outputs": [],
   "source": [
    "UN_data = pd.read_csv('../data/UN_renewable.csv')"
   ]
  },
  {
   "cell_type": "markdown",
   "metadata": {},
   "source": [
    "Pandas has *many* methods for reading in data files -- including `xls` and `xlsx`."
   ]
  },
  {
   "cell_type": "markdown",
   "metadata": {},
   "source": [
    "Let's look at our data.\n",
    "\n",
    "Instead of printing the whole DataFrame, we use `.head()` for the first five rows."
   ]
  },
  {
   "cell_type": "code",
   "execution_count": null,
   "metadata": {},
   "outputs": [],
   "source": [
    "UN_data.head()"
   ]
  },
  {
   "cell_type": "markdown",
   "metadata": {},
   "source": [
    "You'll see `NaN`, which means Not a Number. In other words, there is no data for that entry."
   ]
  },
  {
   "cell_type": "markdown",
   "metadata": {},
   "source": [
    "Two columns look relevant: \"TimePeriod\" and \"Value\".\n",
    "\n",
    "Let's focus on just those."
   ]
  },
  {
   "cell_type": "code",
   "execution_count": null,
   "metadata": {},
   "outputs": [],
   "source": [
    "df = UN_data[[\"TimePeriod\", \"Value\"]]\n",
    "df"
   ]
  },
  {
   "cell_type": "markdown",
   "metadata": {},
   "source": [
    "We can clean up the data with `.dropna()`"
   ]
  },
  {
   "cell_type": "code",
   "execution_count": null,
   "metadata": {},
   "outputs": [],
   "source": [
    "df = df.dropna()\n",
    "df"
   ]
  },
  {
   "cell_type": "markdown",
   "metadata": {},
   "source": [
    "Let's change the names of the columns to be \"Year\" and \"Percentage\". "
   ]
  },
  {
   "cell_type": "code",
   "execution_count": null,
   "metadata": {},
   "outputs": [],
   "source": [
    "df = df.rename(columns={\"TimePeriod\": \"Year\", \"Value\": \"Percentage\"})\n",
    "df.head()"
   ]
  },
  {
   "cell_type": "markdown",
   "metadata": {},
   "source": [
    "Now we can use `pandas` to plot the data."
   ]
  },
  {
   "cell_type": "code",
   "execution_count": null,
   "metadata": {},
   "outputs": [],
   "source": [
    "_ = df.plot(kind=\"scatter\", x=\"Year\", y=\"Percentage\", title=\"Renewable Energy Consumption by Year\")"
   ]
  },
  {
   "cell_type": "markdown",
   "metadata": {},
   "source": [
    "It's bizarre that the Year data is a float. \n",
    "\n",
    "This is simply because we didn't tell pandas do interpret this value as time data."
   ]
  },
  {
   "cell_type": "markdown",
   "metadata": {},
   "source": [
    "Here's he code all at once now."
   ]
  },
  {
   "cell_type": "code",
   "execution_count": null,
   "metadata": {},
   "outputs": [],
   "source": [
    "UN_data = pd.read_csv(\n",
    "\t'../data/UN_renewable.csv', \n",
    "\tparse_dates=[7]\t\t\t\t\t# parse the 8th (!) column as a date\n",
    ")\n",
    "UN_data.head()\n",
    "_ = UN_data.plot(\n",
    "\tkind=\"scatter\", \n",
    "\tx=\"TimePeriod\", \n",
    "\ty=\"Value\", \n",
    "\ttitle=\"Renewable Energy Consumption by Year\", \n",
    "\txlabel=\"Year\",\n",
    "\tylabel=\"Percentage\"\n",
    ")"
   ]
  },
  {
   "cell_type": "markdown",
   "metadata": {},
   "source": [
    "There is so much one can do with `pandas`. If you need to do more data streamlining or analysis, check it out."
   ]
  },
  {
   "cell_type": "markdown",
   "metadata": {},
   "source": [
    "We can quickly get some simple statistical information."
   ]
  },
  {
   "cell_type": "code",
   "execution_count": null,
   "metadata": {},
   "outputs": [],
   "source": [
    "UN_data[\"Value\"].describe()"
   ]
  },
  {
   "cell_type": "markdown",
   "metadata": {},
   "source": [
    "You might say that after 2004, the State felt differently about the percentage of renewable energy.\n",
    "\n",
    "(I am making this up; I don't know whether or not it is true.)"
   ]
  },
  {
   "cell_type": "code",
   "execution_count": null,
   "metadata": {},
   "outputs": [],
   "source": [
    "df = UN_data.query(\"TimePeriod >= 2005\")\n",
    "df[\"Value\"].describe()"
   ]
  },
  {
   "cell_type": "markdown",
   "metadata": {},
   "source": [
    "## Exercises"
   ]
  },
  {
   "cell_type": "markdown",
   "metadata": {},
   "source": [
    "1. Download a data set from the [UN's Sustainable Development Goals](https://unstats.un.org/sdgs/dataportal/countryprofiles/IRL) and load it into Python with `pandas`.\n",
    "2. Plot the relevant data (there is usually a lot of extra data).\n",
    "3. Determine some basic statistics regarding the data set."
   ]
  },
  {
   "cell_type": "markdown",
   "metadata": {},
   "source": [
    "---\n",
    "\n",
    "There is at least one glaring aspect we have omitted. Let's do one more data-based notebook.\n",
    "\n",
    "- `10_data_aficionado.ipynb` "
   ]
  }
 ],
 "metadata": {
  "kernelspec": {
   "display_name": "Python 3",
   "language": "python",
   "name": "python3"
  },
  "language_info": {
   "codemirror_mode": {
    "name": "ipython",
    "version": 3
   },
   "file_extension": ".py",
   "mimetype": "text/x-python",
   "name": "python",
   "nbconvert_exporter": "python",
   "pygments_lexer": "ipython3",
   "version": "3.12.2"
  }
 },
 "nbformat": 4,
 "nbformat_minor": 2
}
